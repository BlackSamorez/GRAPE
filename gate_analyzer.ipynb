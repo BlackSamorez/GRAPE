{
 "cells": [
  {
   "cell_type": "code",
   "execution_count": 57,
   "metadata": {
    "collapsed": true
   },
   "outputs": [],
   "source": [
    "import numpy as np\n",
    "import pandas as pd\n",
    "import math\n",
    "from GRAPE import *\n",
    "import matplotlib.pyplot as plt\n",
    "from qiskit import Aer, execute\n",
    "import warnings\n",
    "warnings.filterwarnings('ignore')"
   ]
  },
  {
   "cell_type": "code",
   "execution_count": 58,
   "outputs": [],
   "source": [
    "numbers = [\"1\", \"2\", \"3\", \"4\", \"5\"]\n",
    "indices = [\"U\", \"V\", \"Ud\"]\n",
    "\n",
    "oleg_data = pd.DataFrame(columns=indices+[\"total\"], dtype=float)\n",
    "\n",
    "for i in numbers:\n",
    "    oleg_data.loc[i] = [0, 0, 0, 0]"
   ],
   "metadata": {
    "collapsed": false,
    "pycharm": {
     "name": "#%%\n"
    }
   }
  },
  {
   "cell_type": "code",
   "execution_count": 59,
   "outputs": [],
   "source": [
    "for i in numbers:\n",
    "    for index in indices:\n",
    "        try:\n",
    "            oleg_data.loc[i, index] = time(f\"./Oleg/{index}{i}.oleg\")\n",
    "        except:\n",
    "            print(i, index)"
   ],
   "metadata": {
    "collapsed": false,
    "pycharm": {
     "name": "#%%\n"
    }
   }
  },
  {
   "cell_type": "code",
   "execution_count": 60,
   "outputs": [],
   "source": [
    "oleg_data[\"total\"] = oleg_data.sum(axis=1)"
   ],
   "metadata": {
    "collapsed": false,
    "pycharm": {
     "name": "#%%\n"
    }
   }
  },
  {
   "cell_type": "code",
   "execution_count": 61,
   "outputs": [
    {
     "data": {
      "text/plain": "            U           V          Ud       total\n1  139.179647  331.661059  161.414760  632.255466\n2  193.444885  166.815278  147.998909  508.259072\n3  233.947779  217.883516  205.243342  657.074637\n4  178.206200  177.122631  250.296871  605.625702\n5  136.246674  231.816363  100.359253  468.422290",
      "text/html": "<div>\n<style scoped>\n    .dataframe tbody tr th:only-of-type {\n        vertical-align: middle;\n    }\n\n    .dataframe tbody tr th {\n        vertical-align: top;\n    }\n\n    .dataframe thead th {\n        text-align: right;\n    }\n</style>\n<table border=\"1\" class=\"dataframe\">\n  <thead>\n    <tr style=\"text-align: right;\">\n      <th></th>\n      <th>U</th>\n      <th>V</th>\n      <th>Ud</th>\n      <th>total</th>\n    </tr>\n  </thead>\n  <tbody>\n    <tr>\n      <th>1</th>\n      <td>139.179647</td>\n      <td>331.661059</td>\n      <td>161.414760</td>\n      <td>632.255466</td>\n    </tr>\n    <tr>\n      <th>2</th>\n      <td>193.444885</td>\n      <td>166.815278</td>\n      <td>147.998909</td>\n      <td>508.259072</td>\n    </tr>\n    <tr>\n      <th>3</th>\n      <td>233.947779</td>\n      <td>217.883516</td>\n      <td>205.243342</td>\n      <td>657.074637</td>\n    </tr>\n    <tr>\n      <th>4</th>\n      <td>178.206200</td>\n      <td>177.122631</td>\n      <td>250.296871</td>\n      <td>605.625702</td>\n    </tr>\n    <tr>\n      <th>5</th>\n      <td>136.246674</td>\n      <td>231.816363</td>\n      <td>100.359253</td>\n      <td>468.422290</td>\n    </tr>\n  </tbody>\n</table>\n</div>"
     },
     "execution_count": 61,
     "metadata": {},
     "output_type": "execute_result"
    }
   ],
   "source": [
    "oleg_data"
   ],
   "metadata": {
    "collapsed": false,
    "pycharm": {
     "name": "#%%\n"
    }
   }
  },
  {
   "cell_type": "code",
   "execution_count": 61,
   "outputs": [],
   "source": [],
   "metadata": {
    "collapsed": false,
    "pycharm": {
     "name": "#%%\n"
    }
   }
  }
 ],
 "metadata": {
  "kernelspec": {
   "display_name": "Python 3",
   "language": "python",
   "name": "python3"
  },
  "language_info": {
   "codemirror_mode": {
    "name": "ipython",
    "version": 2
   },
   "file_extension": ".py",
   "mimetype": "text/x-python",
   "name": "python",
   "nbconvert_exporter": "python",
   "pygments_lexer": "ipython2",
   "version": "2.7.6"
  }
 },
 "nbformat": 4,
 "nbformat_minor": 0
}