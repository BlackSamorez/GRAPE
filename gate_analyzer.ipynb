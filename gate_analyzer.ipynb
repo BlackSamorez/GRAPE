{
 "cells": [
  {
   "cell_type": "code",
   "execution_count": 11,
   "metadata": {
    "collapsed": true
   },
   "outputs": [],
   "source": [
    "import numpy as np\n",
    "import pandas as pd\n",
    "import math\n",
    "from GRAPE import *\n",
    "import matplotlib.pyplot as plt\n",
    "from qiskit import Aer, execute\n",
    "import warnings\n",
    "warnings.filterwarnings('ignore')"
   ]
  },
  {
   "cell_type": "code",
   "execution_count": 12,
   "outputs": [],
   "source": [
    "numbers = [\"1\", \"2\", \"3\", \"4\", \"5\"]\n",
    "indices = [\"U\", \"V\", \"Ud\"]\n",
    "\n",
    "oleg_data = pd.DataFrame(columns=indices+[\"total\"], dtype=float)\n",
    "\n",
    "for i in numbers:\n",
    "    oleg_data.loc[i] = [0, 0, 0, 0]"
   ],
   "metadata": {
    "collapsed": false,
    "pycharm": {
     "name": "#%%\n"
    }
   }
  },
  {
   "cell_type": "code",
   "execution_count": 13,
   "outputs": [],
   "source": [
    "for i in numbers:\n",
    "    for index in indices:\n",
    "        try:\n",
    "            oleg_data.loc[i, index] = time(f\"./Oleg/{index}{i}.oleg\")\n",
    "        except:\n",
    "            print(i, index)"
   ],
   "metadata": {
    "collapsed": false,
    "pycharm": {
     "name": "#%%\n"
    }
   }
  },
  {
   "cell_type": "code",
   "execution_count": 14,
   "outputs": [],
   "source": [
    "oleg_data[\"total\"] = oleg_data.sum(axis=1)"
   ],
   "metadata": {
    "collapsed": false,
    "pycharm": {
     "name": "#%%\n"
    }
   }
  },
  {
   "cell_type": "code",
   "execution_count": 15,
   "outputs": [
    {
     "data": {
      "text/plain": "            U           V          Ud       total\n1  141.897797  331.638145  163.540434  637.076376\n2  193.315917  164.982414  149.063601  507.361932\n3  233.839300  218.153373  205.283949  657.276623\n4  176.542119  178.356431  250.296871  605.195421\n5  136.246674  240.672502  100.450389  477.369565",
      "text/html": "<div>\n<style scoped>\n    .dataframe tbody tr th:only-of-type {\n        vertical-align: middle;\n    }\n\n    .dataframe tbody tr th {\n        vertical-align: top;\n    }\n\n    .dataframe thead th {\n        text-align: right;\n    }\n</style>\n<table border=\"1\" class=\"dataframe\">\n  <thead>\n    <tr style=\"text-align: right;\">\n      <th></th>\n      <th>U</th>\n      <th>V</th>\n      <th>Ud</th>\n      <th>total</th>\n    </tr>\n  </thead>\n  <tbody>\n    <tr>\n      <th>1</th>\n      <td>141.897797</td>\n      <td>331.638145</td>\n      <td>163.540434</td>\n      <td>637.076376</td>\n    </tr>\n    <tr>\n      <th>2</th>\n      <td>193.315917</td>\n      <td>164.982414</td>\n      <td>149.063601</td>\n      <td>507.361932</td>\n    </tr>\n    <tr>\n      <th>3</th>\n      <td>233.839300</td>\n      <td>218.153373</td>\n      <td>205.283949</td>\n      <td>657.276623</td>\n    </tr>\n    <tr>\n      <th>4</th>\n      <td>176.542119</td>\n      <td>178.356431</td>\n      <td>250.296871</td>\n      <td>605.195421</td>\n    </tr>\n    <tr>\n      <th>5</th>\n      <td>136.246674</td>\n      <td>240.672502</td>\n      <td>100.450389</td>\n      <td>477.369565</td>\n    </tr>\n  </tbody>\n</table>\n</div>"
     },
     "execution_count": 15,
     "metadata": {},
     "output_type": "execute_result"
    }
   ],
   "source": [
    "oleg_data"
   ],
   "metadata": {
    "collapsed": false,
    "pycharm": {
     "name": "#%%\n"
    }
   }
  },
  {
   "cell_type": "code",
   "execution_count": 15,
   "outputs": [],
   "source": [],
   "metadata": {
    "collapsed": false,
    "pycharm": {
     "name": "#%%\n"
    }
   }
  }
 ],
 "metadata": {
  "kernelspec": {
   "display_name": "Python 3",
   "language": "python",
   "name": "python3"
  },
  "language_info": {
   "codemirror_mode": {
    "name": "ipython",
    "version": 2
   },
   "file_extension": ".py",
   "mimetype": "text/x-python",
   "name": "python",
   "nbconvert_exporter": "python",
   "pygments_lexer": "ipython2",
   "version": "2.7.6"
  }
 },
 "nbformat": 4,
 "nbformat_minor": 0
}