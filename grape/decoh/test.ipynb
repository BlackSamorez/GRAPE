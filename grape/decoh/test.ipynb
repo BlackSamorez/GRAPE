{
 "cells": [
  {
   "cell_type": "code",
   "execution_count": 1,
   "id": "fa3d4cb2",
   "metadata": {},
   "outputs": [],
   "source": [
    "import torch\n",
    "from torch.optim import Adam\n",
    "\n",
    "import math\n",
    "from tqdm import trange\n",
    "\n",
    "from onequbitgates import GeneralOneQubitGate\n",
    "\n",
    "def fidelity(state_vector, gate, bad_gate):\n",
    "    op = gate.T.conj() @ bad_gate @ gate\n",
    "    \n",
    "#     print(state_vector.conj() @ op @ state_vector)\n",
    "    return state_vector.conj() @ gate.T.conj() @ bad_gate @ gate @ state_vector"
   ]
  },
  {
   "cell_type": "code",
   "execution_count": 5,
   "id": "9f66e9d1",
   "metadata": {},
   "outputs": [],
   "source": [
    "THETA = 0.5\n",
    "PHI = 0.5\n",
    "BETA = 1.\n",
    "GAMMA = 2.\n",
    "DELTA = 3.\n",
    "\n",
    "I = torch.tensor([[1, 0],\n",
    "                  [0, 1]], dtype=torch.cfloat, requires_grad=False)\n",
    "X = torch.tensor([[0, 1],\n",
    "                  [1, 0]], dtype=torch.cfloat, requires_grad=False)\n",
    "Y = torch.tensor([[0, -1j],\n",
    "                  [1j, 0]], dtype=torch.cfloat, requires_grad=False)\n",
    "Z = torch.tensor([[1, 0],\n",
    "                  [0, -1]], dtype=torch.cfloat, requires_grad=False)\n",
    "\n",
    "def rx(angle):\n",
    "    return math.cos(angle/2) * I - 1j * math.sin(angle/2) * X\n",
    "\n",
    "def ry(angle):\n",
    "    return math.cos(angle/2) * I - 1j * math.sin(angle/2) * Y\n",
    "\n",
    "def rz(angle):\n",
    "    return math.cos(angle/2) * I - 1j * math.sin(angle/2) * Z\n",
    "\n",
    "state = torch.tensor([THETA, PHI], dtype=torch.cfloat, requires_grad=False)\n",
    "state_vector = torch.tensor([math.cos(THETA/2), math.sin(THETA/2)*math.e**(1j*PHI)], dtype=torch.cfloat, requires_grad=False)\n",
    "rho = torch.tensordot(state_vector.conj(), state_vector, dims=0)\n",
    "gate = rz(BETA) @ rx(-math.pi/2) @ rz(GAMMA) @ rx(math.pi/2) @ rz(DELTA)\n",
    "\n",
    "bad_gate = GeneralOneQubitGate().float() # torch.tensor([BETA, GAMMA, DELTA])\n",
    "optim = Adam(bad_gate.parameters())"
   ]
  },
  {
   "cell_type": "code",
   "execution_count": 6,
   "id": "9e7b0ae2",
   "metadata": {},
   "outputs": [
    {
     "name": "stderr",
     "output_type": "stream",
     "text": [
      "100%|██████████| 3000/3000 [00:03<00:00, 980.51it/s] \n"
     ]
    }
   ],
   "source": [
    "fidelities = []\n",
    "purities = []\n",
    "\n",
    "for i in trange(3000):\n",
    "    bad_rho = bad_gate(rho)\n",
    "    loss = -fidelity(state_vector, gate, bad_rho)\n",
    "    loss.backward()\n",
    "    \n",
    "    optim.step()\n",
    "    optim.zero_grad()\n",
    "    \n",
    "    with torch.no_grad():\n",
    "        fidelities.append(-loss.item().real)\n",
    "        purities.append(torch.trace(bad_rho.T.conj() @ bad_rho).item().real)"
   ]
  },
  {
   "cell_type": "code",
   "execution_count": 7,
   "id": "2a23b58b",
   "metadata": {},
   "outputs": [
    {
     "data": {
      "image/png": "[encoded data removed]",
      "text/plain": [
       "<Figure size 432x288 with 1 Axes>"
      ]
     },
     "metadata": {
      "needs_background": "light"
     },
     "output_type": "display_data"
    }
   ],
   "source": [
    "import matplotlib.pyplot as plt\n",
    "\n",
    "plt.plot(fidelities, label=\"fidelity\")\n",
    "plt.plot(purities, label=\"purity\")\n",
    "plt.ylim((0,1))\n",
    "plt.legend()\n",
    "plt.show()"
   ]
  },
  {
   "cell_type": "code",
   "execution_count": null,
   "id": "cb4477dc",
   "metadata": {},
   "outputs": [],
   "source": []
  }
 ],
 "metadata": {
  "kernelspec": {
   "display_name": "Python [conda env:.conda-megatron]",
   "language": "python",
   "name": "conda-env-.conda-megatron-py"
  },
  "language_info": {
   "codemirror_mode": {
    "name": "ipython",
    "version": 3
   },
   "file_extension": ".py",
   "mimetype": "text/x-python",
   "name": "python",
   "nbconvert_exporter": "python",
   "pygments_lexer": "ipython3",
   "version": "3.8.0"
  }
 },
 "nbformat": 4,
 "nbformat_minor": 5
}
