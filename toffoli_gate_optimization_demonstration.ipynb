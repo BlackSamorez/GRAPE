{
 "cells": [
  {
   "cell_type": "code",
   "execution_count": 1,
   "outputs": [],
   "source": [
    "import matplotlib.pyplot as plt\n",
    "import numpy as np\n",
    "import copy\n",
    "from grape.state_vector.multiqubitgates import Pulse, Evolution, Inversion, CXCascade\n",
    "from grape.state_vector.circuit import Circuit, OneQubitEntanglementAlternation\n",
    "from grape.state_vector.gradient_optimization import GradientOptimization\n",
    "from grape.optimizer_old import GradientDescent"
   ],
   "metadata": {
    "collapsed": false,
    "pycharm": {
     "name": "#%%\n"
    }
   }
  },
  {
   "cell_type": "code",
   "execution_count": 2,
   "outputs": [],
   "source": [
    "def norm(matrix1, matrix2):\n",
    "    return ((matrix1 - matrix2) @ (matrix1 - matrix2).conjugate().T).trace()\n",
    "\n",
    "cx = np.asarray([[1, 0, 0, 0],\n",
    "                 [0, 1, 0, 0],\n",
    "                 [0, 0, 0, 1],\n",
    "                 [0, 0, 1, 0]], dtype=complex)\n",
    "\n",
    "toffoli = np.asarray([[1, 0, 0, 0, 0, 0, 0, 0],\n",
    "                      [0, 1, 0, 0, 0, 0, 0, 0],\n",
    "                      [0, 0, 1, 0, 0, 0, 0, 0],\n",
    "                      [0, 0, 0, 1, 0, 0, 0, 0],\n",
    "                      [0, 0, 0, 0, 1, 0, 0, 0],\n",
    "                      [0, 0, 0, 0, 0, 1, 0, 0],\n",
    "                      [0, 0, 0, 0, 0, 0, 0, 1],\n",
    "                      [0, 0, 0, 0, 0, 0, 1, 0]], dtype=complex)\n",
    "\n",
    "hamiltonian = np.zeros((3, 3))\n",
    "hamiltonian[0][1] = 0.1385\n",
    "hamiltonian[1][2] = 0.01304\n",
    "hamiltonian[0][2] = 0.00148\n",
    "\n",
    "target = toffoli\n",
    "size = int(np.log2(target.shape[0]))\n",
    "circuit = Circuit(size)\n",
    "for i in range(2 * size):\n",
    "    circuit += Pulse(size, \"nmr\")\n",
    "    circuit += Evolution(size)\n",
    "circuit += Pulse(size, \"nmr\")\n",
    "\n",
    "opt = GradientOptimization(target, circuit, optimizer=\"adam\")\n",
    "opt.randomize_params()\n",
    "opt.set_hamiltonian(hamiltonian[:size][:size])\n",
    "\n",
    "noopt = GradientOptimization(target, copy.deepcopy(circuit), optimizer=None)\n",
    "noopt.set_hamiltonian(hamiltonian[:size][:size])"
   ],
   "metadata": {
    "collapsed": false,
    "pycharm": {
     "name": "#%%\n"
    }
   }
  },
  {
   "cell_type": "code",
   "execution_count": 3,
   "outputs": [],
   "source": [
    "opt_loss = opt.descend(steps=100, track_distance=True)\n",
    "noopt_loss = noopt.descend(steps=100, track_distance=True)"
   ],
   "metadata": {
    "collapsed": false,
    "pycharm": {
     "name": "#%%\n"
    }
   }
  },
  {
   "cell_type": "code",
   "execution_count": 4,
   "outputs": [
    {
     "data": {
      "text/plain": "<Figure size 432x288 with 1 Axes>",
      "image/png": "[encoded data removed]"
     },
     "metadata": {
      "needs_background": "light"
     },
     "output_type": "display_data"
    }
   ],
   "source": [
    "plt.plot(opt_loss, color=\"red\", label=\"adam\")\n",
    "plt.plot(noopt_loss, color=\"green\", label=\"no opt\")\n",
    "plt.xlabel(\"Epoch\")\n",
    "plt.ylabel(\"Loss\")\n",
    "plt.title(\"Toffoli gate optimization demonstration\")\n",
    "plt.legend(loc='upper right')\n",
    "plt.savefig(\"toffoli_gate_optimization_demonstration.png\", format='png', transparent=True)"
   ],
   "metadata": {
    "collapsed": false,
    "pycharm": {
     "name": "#%%\n"
    }
   }
  },
  {
   "cell_type": "code",
   "execution_count": null,
   "outputs": [],
   "source": [],
   "metadata": {
    "collapsed": false,
    "pycharm": {
     "name": "#%%\n"
    }
   }
  }
 ],
 "metadata": {
  "kernelspec": {
   "display_name": "Python 3",
   "language": "python",
   "name": "python3"
  },
  "language_info": {
   "codemirror_mode": {
    "name": "ipython",
    "version": 2
   },
   "file_extension": ".py",
   "mimetype": "text/x-python",
   "name": "python",
   "nbconvert_exporter": "python",
   "pygments_lexer": "ipython2",
   "version": "2.7.6"
  }
 },
 "nbformat": 4,
 "nbformat_minor": 0
}