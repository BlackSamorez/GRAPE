{
 "cells": [
  {
   "cell_type": "code",
   "execution_count": 1,
   "id": "f0a87dd5",
   "metadata": {},
   "outputs": [],
   "source": [
    "import torch\n",
    "from grape.torch.constructor import Constructor"
   ]
  },
  {
   "cell_type": "code",
   "execution_count": 2,
   "id": "0e187bb9",
   "metadata": {},
   "outputs": [],
   "source": [
    "TOFFOLI = torch.eye(8, dtype=torch.cfloat, requires_grad=False)\n",
    "TOFFOLI[7][7] = 0\n",
    "TOFFOLI[6][6] = 0\n",
    "TOFFOLI[7][6] = 1\n",
    "TOFFOLI[6][7] = 1"
   ]
  },
  {
   "cell_type": "code",
   "execution_count": 3,
   "id": "58f23349",
   "metadata": {},
   "outputs": [],
   "source": [
    "c = Constructor(TOFFOLI)"
   ]
  },
  {
   "cell_type": "code",
   "execution_count": 4,
   "id": "ec9e19ae",
   "metadata": {},
   "outputs": [
    {
     "data": {
      "application/vnd.jupyter.widget-view+json": {
       "model_id": "805065e6205c4f059f2ad8318d5869af",
       "version_major": 2,
       "version_minor": 0
      },
      "text/plain": [
       "  0%|          | 0/5000 [00:00<?, ?it/s]"
      ]
     },
     "metadata": {},
     "output_type": "display_data"
    }
   ],
   "source": [
    "loss = c.train(5000)"
   ]
  },
  {
   "cell_type": "markdown",
   "id": "20ac4071",
   "metadata": {},
   "source": [
    "01:14"
   ]
  },
  {
   "cell_type": "code",
   "execution_count": 5,
   "id": "abe02fe7",
   "metadata": {},
   "outputs": [
    {
     "data": {
      "text/plain": [
       "[<matplotlib.lines.Line2D at 0x7f1540b2c2e0>]"
      ]
     },
     "execution_count": 5,
     "metadata": {},
     "output_type": "execute_result"
    },
    {
     "data": {
      "image/png": "[encoded data removed]",
      "text/plain": [
       "<Figure size 432x288 with 1 Axes>"
      ]
     },
     "metadata": {
      "needs_background": "light"
     },
     "output_type": "display_data"
    }
   ],
   "source": [
    "import matplotlib.pyplot as plt\n",
    "\n",
    "plt.plot(loss)"
   ]
  },
  {
   "cell_type": "code",
   "execution_count": null,
   "id": "955ca1cf",
   "metadata": {},
   "outputs": [],
   "source": []
  }
 ],
 "metadata": {
  "kernelspec": {
   "display_name": "Python [conda env:.conda-megatron]",
   "language": "python",
   "name": "conda-env-.conda-megatron-py"
  },
  "language_info": {
   "codemirror_mode": {
    "name": "ipython",
    "version": 3
   },
   "file_extension": ".py",
   "mimetype": "text/x-python",
   "name": "python",
   "nbconvert_exporter": "python",
   "pygments_lexer": "ipython3",
   "version": "3.8.0"
  }
 },
 "nbformat": 4,
 "nbformat_minor": 5
}
