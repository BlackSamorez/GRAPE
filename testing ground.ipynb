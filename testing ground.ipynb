{
 "cells": [
  {
   "cell_type": "code",
   "execution_count": 1,
   "outputs": [],
   "source": [
    "import numpy as np\n",
    "import cupy as cp\n",
    "import math\n",
    "import random\n",
    "import matplotlib.pyplot as plt\n",
    "\n",
    "class BasicGate: # 1-qubit gate\n",
    "  def __init__(self, params=None):\n",
    "    if params is None:\n",
    "      params = [0, 0]\n",
    "    self.params = params\n",
    "    # Pauli matrices\n",
    "    self.I = np.eye(2, dtype=complex)\n",
    "    self.X = np.asarray([[0, 1], [1, 0]], dtype=complex)\n",
    "    self.Y = np.asarray([[0, -1j], [1j, 0]], dtype=complex)\n",
    "    self.Z = np.asarray([[1, 0], [0, -1]], dtype=complex)\n",
    "\n",
    "  @property\n",
    "  def matrix(self): # straightforward matrix representation\n",
    "    matrix = math.cos(self.params[0] / 2) * self.I - 1j * math.sin(self.params[0]/2) * (math.cos(self.params[1]) * self.X + math.sin(self.params[1]) * self.Y)\n",
    "\n",
    "    return matrix\n",
    "\n",
    "  def randomize_params(self):\n",
    "    self.params = [2 * math.pi * random.random(), 2 * math.pi * random.random()]\n",
    "\n",
    "  def correct_params(self, correction): # update parameters based on passed corrections\n",
    "    self.params[0] += correction[0]\n",
    "    self.params[1] += correction[1]\n",
    "\n",
    "\n",
    "class EvolutionStep: # a combination of 1-qubit operations followed by evolution\n",
    "  def __init__(self, size = 2, params=None):\n",
    "    if params is None:\n",
    "      params = []\n",
    "    self.size = size # number of qubits\n",
    "    self.time = 0.2 # evolution time\n",
    "\n",
    "    if len(params) != self.size:\n",
    "      params += [[0, 0] for _ in range(self.size - len(params))]\n",
    "\n",
    "    self.basicGates = [BasicGate(param) for param in params] # 1-qubit gates\n",
    "\n",
    "    self.J = np.zeros((2 ** self.size, 2 ** self.size), dtype=np.complex) # interaction matrix (NOT FINISHED)\n",
    "    for i in range(self.size - 1):\n",
    "      self.J[i + 1][i] = 1 # костыль\n",
    "\n",
    "  @property\n",
    "  def evolution(self): # evolution matrix\n",
    "    if self.size == 2:\n",
    "      second = -np.eye(2 ** self.size, dtype=np.complex)\n",
    "      second[0][0] = 1\n",
    "      second[3][3] = 1\n",
    "\n",
    "      return math.cos(self.time / 2) * np.eye(2 ** self.size, dtype=np.complex) - 1j * math.sin(self.time / 2) * second\n",
    "    return np.eye(2 ** self.size, dtype=np.complex) # NOT FINISHED\n",
    "\n",
    "  @property\n",
    "  def matrix(self): # unitary of this evolution step\n",
    "    matrix = np.ones(1, dtype=np.complex)\n",
    "\n",
    "    for i in range(self.size):\n",
    "      matrix = np.kron(matrix, self.basicGates[i].matrix) # 1-qubit \"kick\"\n",
    "    matrix = self.evolution @ matrix # evolution\n",
    "\n",
    "    return matrix\n",
    "\n",
    "  def randomize_params(self):\n",
    "    for basicGate in self.basicGates:\n",
    "      basicGate.randomize_params()\n",
    "\n",
    "  def correct_params(self, correction, evolution_correction): # update parameters based on passed corrections\n",
    "    for i in range(self.size):\n",
    "      self.basicGates[i].correct_params(correction[i])\n",
    "    self.time += evolution_correction\n",
    "\n",
    "\n",
    "class Implementation: # class to approximate abstract unitary using a series of evolutionStep\n",
    "  def __init__(self, target, n):\n",
    "    self.target = target # unitary to approximate\n",
    "    self.noise = 0.05 # noise levels (see self.stupidCalculateGradient)\n",
    "\n",
    "    self.n = n # number of evolution steps\n",
    "    self.size = int(math.log2(self.target.size) / 2) # number of qubits\n",
    "\n",
    "    self.phase = 0 # global phase\n",
    "    self.gates = [EvolutionStep(size=self.size) for _ in range(self.n)] # evolution steps\n",
    "\n",
    "    self.evolutionGradient = [0] * self.n # -gradient of cost function by evolution times\n",
    "    self.phaseGradient = 0 # -gradient of cost function by global phase\n",
    "    self.gradient = [[[0, 0] for _ in range(self.size)] for _ in range(self.n)] # -gradient of cost function by 1-qubit operations parameters\n",
    "    self.stepSize = 0.05 # parameter update by gradient coefficient for 1-qubit operations parameters and evolution times\n",
    "    self.phaseStepSize = 0.01 # parameter update by gradient coefficient for global phase (diverges when trying to lower)\n",
    "\n",
    "  @property\n",
    "  def time(self): # total approximation time\n",
    "    time = 0\n",
    "    for gate in self.gates:\n",
    "      time += gate.time\n",
    "    return time.real\n",
    "\n",
    "  @property\n",
    "  def target_d(self): # target dagger\n",
    "    return self.target.conjugate().transpose()\n",
    "\n",
    "  @property\n",
    "  def matrix(self): # approximation matrix\n",
    "    matrix = np.eye(2**self.size, dtype=np.complex)\n",
    "\n",
    "    for i in range(self.n):\n",
    "      matrix = matrix @ self.gates[i].matrix * math.e ** (1j * self.phase)\n",
    "\n",
    "    return matrix\n",
    "\n",
    "  def write_params(self, params = None): # writes params for 1-qubit operations\n",
    "    if params:\n",
    "      for i in range(self.n):\n",
    "        self.gates[i].params = params[i]\n",
    "    else:\n",
    "      for i in range(self.n):\n",
    "        self.gates[i].randomize_params() # randomizes if no input\n",
    "\n",
    "  def calculate_gradient(self): # grad f = (f(x + gradstep) - f(x)) / gradstep\n",
    "    dist1 = self.distance\n",
    "\n",
    "    gradstep = 0.001\n",
    "\n",
    "    # 1-qubit operations parameters gradient\n",
    "    for i in range(self.n):\n",
    "      for j in range(self.size):\n",
    "        for k in [0, 1]:\n",
    "          self.gates[i].basicGates[j].params[k] += gradstep\n",
    "          dist2 = self.distance\n",
    "          self.gates[i].basicGates[j].params[k] -= gradstep\n",
    "\n",
    "          self.gradient[i][j][k] = (dist1 - dist2) / gradstep * self.stepSize # minus for descent\n",
    "\n",
    "      # evolution times gradient\n",
    "      self.gates[i].time += gradstep\n",
    "      dist2 = self.distance\n",
    "      self.gates[i].time -= gradstep\n",
    "\n",
    "      self.evolutionGradient[i] = (dist1 - dist2) / gradstep * self.stepSize # minus for descent\n",
    "\n",
    "    # global phase gradient\n",
    "    self.phase += gradstep\n",
    "    dist2 = self.distance\n",
    "    self.phase -= gradstep\n",
    "\n",
    "    self.phaseGradient += (dist1 - dist2) / gradstep * self.phaseStepSize # minus for descent\n",
    "\n",
    "    # make every step + random(-1, 1) * self.random\n",
    "    if self.noise:\n",
    "      for i in range(self.n):\n",
    "        for j in range(self.size):\n",
    "          for k in [0, 1]:\n",
    "           self.gradient[i][j][k] += self.noise * 2 *(random.random() - 1) * self.gradient[i][j][k]\n",
    "\n",
    "  def correct_params(self): # update all parameters based on gradients\n",
    "    for i in range(self.n):\n",
    "      self.gates[i].correct_params(self.gradient[i], self.evolutionGradient[i])\n",
    "    self.phase = self.phaseGradient\n",
    "\n",
    "  @property\n",
    "  def distance(self): # Frobenius norm\n",
    "    distance = ((self.matrix - self.target) @ (self.matrix - self.target).conjugate().transpose()).trace()\n",
    "\n",
    "    return distance\n",
    "\n",
    "  def descend(self, steps=1000, track_distance=False): # perform gradient descent\n",
    "    distances = [] # distances to track\n",
    "\n",
    "    for i in range(steps):\n",
    "      distances += [self.distance]\n",
    "\n",
    "      self.calculate_gradient() # calculate gradient\n",
    "      self.correct_params() # update parameters\n",
    "\n",
    "    # most parameters are cyclic - make them in (0, max)\n",
    "    for gate in self.gates:\n",
    "      for basicGate in gate.basicGates:\n",
    "        basicGate.params[0] = basicGate.params[0].real % (2 * math.pi)\n",
    "      gate.time = gate.time.real % (4 * math.pi)\n",
    "    self.phase = self.phase.real % (2 * math.pi)\n",
    "\n",
    "    if track_distance:\n",
    "      return distances"
   ],
   "metadata": {
    "collapsed": false,
    "pycharm": {
     "name": "#%%\n"
    }
   }
  },
  {
   "cell_type": "code",
   "execution_count": 2,
   "outputs": [],
   "source": [
    "CX = np.eye(4)\n",
    "CX[2][2] = 0\n",
    "CX[3][3] = 0\n",
    "CX[2][3] = 1\n",
    "CX[3][2] = 1\n",
    "\n",
    "SWAP = np.eye(4)\n",
    "SWAP[1][1] = 0\n",
    "SWAP[2][2] = 0\n",
    "SWAP[1][2] = 1\n",
    "SWAP[2][1] = 1\n"
   ],
   "metadata": {
    "collapsed": false,
    "pycharm": {
     "name": "#%%\n"
    }
   }
  },
  {
   "cell_type": "code",
   "execution_count": 3,
   "outputs": [],
   "source": [
    "implementations = [Implementation(SWAP, 4) for _ in range(10)]\n",
    "for imp in implementations:\n",
    "  imp.noise = 0.05\n",
    "  imp.write_params()"
   ],
   "metadata": {
    "collapsed": false,
    "pycharm": {
     "name": "#%%\n"
    }
   }
  },
  {
   "cell_type": "code",
   "execution_count": 4,
   "outputs": [
    {
     "name": "stderr",
     "output_type": "stream",
     "text": [
      "<ipython-input-1-3970ef1268d1>:20: ComplexWarning: Casting complex values to real discards the imaginary part\n",
      "  matrix = math.cos(self.params[0] / 2) * self.I - 1j * math.sin(self.params[0]/2) * (math.cos(self.params[1]) * self.X + math.sin(self.params[1]) * self.Y)\n",
      "<ipython-input-1-3970ef1268d1>:55: ComplexWarning: Casting complex values to real discards the imaginary part\n",
      "  return math.cos(self.time / 2) * np.eye(2 ** self.size, dtype=np.complex) - 1j * math.sin(self.time / 2) * second\n"
     ]
    }
   ],
   "source": [
    "distances = [implementation.descend(200, track_distance=True) for implementation in implementations]"
   ],
   "metadata": {
    "collapsed": false,
    "pycharm": {
     "name": "#%%\n"
    }
   }
  },
  {
   "cell_type": "code",
   "execution_count": 5,
   "outputs": [
    {
     "name": "stdout",
     "output_type": "stream",
     "text": [
      "distance: 0.134293 ; time: 14.62\n",
      "distance: 0.032485 ; time: 25.47\n",
      "distance: 15.999947 ; time: 24.83\n",
      "distance: 0.095647 ; time: 15.92\n",
      "distance: 1.9e-05 ; time: 14.94\n",
      "distance: 1.8e-05 ; time: 17.25\n",
      "distance: 1.9e-05 ; time: 4.73\n",
      "distance: 15.999919 ; time: 14.23\n",
      "distance: 15.999814 ; time: 25.23\n",
      "distance: 13.674095 ; time: 15.25\n"
     ]
    },
    {
     "name": "stderr",
     "output_type": "stream",
     "text": [
      "<ipython-input-1-3970ef1268d1>:20: ComplexWarning: Casting complex values to real discards the imaginary part\n",
      "  matrix = math.cos(self.params[0] / 2) * self.I - 1j * math.sin(self.params[0]/2) * (math.cos(self.params[1]) * self.X + math.sin(self.params[1]) * self.Y)\n"
     ]
    },
    {
     "data": {
      "text/plain": "<Figure size 432x288 with 1 Axes>",
      "image/png": "[encoded data removed]"
     },
     "metadata": {
      "needs_background": "light"
     },
     "output_type": "display_data"
    }
   ],
   "source": [
    "for distance in distances:\n",
    "  plt.plot(np.real(distance))\n",
    "for i in range(10):\n",
    "  print(\"distance:\", implementations[i].distance.round(6).real, \"; time:\", implementations[i].time.round(2))"
   ],
   "metadata": {
    "collapsed": false,
    "pycharm": {
     "name": "#%%\n"
    }
   }
  }
 ],
 "metadata": {
  "kernelspec": {
   "display_name": "Python 3",
   "language": "python",
   "name": "python3"
  },
  "language_info": {
   "codemirror_mode": {
    "name": "ipython",
    "version": 2
   },
   "file_extension": ".py",
   "mimetype": "text/x-python",
   "name": "python",
   "nbconvert_exporter": "python",
   "pygments_lexer": "ipython2",
   "version": "2.7.6"
  }
 },
 "nbformat": 4,
 "nbformat_minor": 0
}