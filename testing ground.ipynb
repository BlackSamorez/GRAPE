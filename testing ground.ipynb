{
 "cells": [
  {
   "cell_type": "code",
   "execution_count": 19,
   "outputs": [],
   "source": [
    "import matplotlib.pyplot as plt\n",
    "import numpy as np\n",
    "from GRAPE.multiqubitgates import Pulse, Evolution, Inversion, CXCascade\n",
    "from GRAPE.circuit import Circuit, OneQubitEntanglementAlternation\n",
    "from GRAPE.optimizer import GradientOptimization\n",
    "from GRAPE.optimizer_old import GradientDescent\n",
    "\n",
    "def norm(matrix1, matrix2):\n",
    "    return ((matrix1 - matrix2) @ (matrix1 - matrix2).conjugate().T).trace()\n",
    "\n",
    "cx = np.asarray([[1, 0, 0, 0],\n",
    "                 [0, 1, 0, 0],\n",
    "                 [0, 0, 0, 1],\n",
    "                 [0, 0, 1, 0]], dtype=complex)\n",
    "\n",
    "toffoli = np.asarray([[1, 0, 0, 0, 0, 0, 0, 0],\n",
    "                      [0, 1, 0, 0, 0, 0, 0, 0],\n",
    "                      [0, 0, 1, 0, 0, 0, 0, 0],\n",
    "                      [0, 0, 0, 1, 0, 0, 0, 0],\n",
    "                      [0, 0, 0, 0, 1, 0, 0, 0],\n",
    "                      [0, 0, 0, 0, 0, 1, 0, 0],\n",
    "                      [0, 0, 0, 0, 0, 0, 0, 1],\n",
    "                      [0, 0, 0, 0, 0, 0, 1, 0]], dtype=complex)\n",
    "\n",
    "hamiltonian = np.zeros((3, 3))\n",
    "hamiltonian[0][1] = 0.1385\n",
    "hamiltonian[1][2] = 0.01304\n",
    "hamiltonian[0][2] = 0.00148\n",
    "\n",
    "target = toffoli\n",
    "size = int(np.log2(target.shape[0]))\n",
    "circuit = OneQubitEntanglementAlternation(size, Evolution, 4, one_qubit_gate_type=\"nmr\")\n",
    "\n",
    "opt = GradientOptimization(target, circuit)\n",
    "opt.randomize_params()\n",
    "opt.set_hamiltonian(hamiltonian[:size][:size])\n",
    "opt.learning_rate = 0.01"
   ],
   "metadata": {
    "collapsed": false,
    "pycharm": {
     "name": "#%%\n"
    }
   }
  },
  {
   "cell_type": "code",
   "execution_count": 20,
   "outputs": [
    {
     "data": {
      "text/plain": "[<matplotlib.lines.Line2D at 0x1b484fa06d0>]"
     },
     "execution_count": 20,
     "metadata": {},
     "output_type": "execute_result"
    },
    {
     "data": {
      "text/plain": "<Figure size 432x288 with 1 Axes>",
      "image/png": "[encoded data removed]"
     },
     "metadata": {
      "needs_background": "light"
     },
     "output_type": "display_data"
    }
   ],
   "source": [
    "loss = opt.descend(steps=1000, track_distance=True)\n",
    "plt.plot(loss)"
   ],
   "metadata": {
    "collapsed": false,
    "pycharm": {
     "name": "#%%\n"
    }
   }
  },
  {
   "cell_type": "code",
   "execution_count": 21,
   "outputs": [
    {
     "data": {
      "text/plain": "272.1637975509872"
     },
     "execution_count": 21,
     "metadata": {},
     "output_type": "execute_result"
    }
   ],
   "source": [
    "opt.time\n",
    "\n",
    "\n"
   ],
   "metadata": {
    "collapsed": false,
    "pycharm": {
     "name": "#%%\n"
    }
   }
  }
 ],
 "metadata": {
  "kernelspec": {
   "display_name": "Python 3",
   "language": "python",
   "name": "python3"
  },
  "language_info": {
   "codemirror_mode": {
    "name": "ipython",
    "version": 2
   },
   "file_extension": ".py",
   "mimetype": "text/x-python",
   "name": "python",
   "nbconvert_exporter": "python",
   "pygments_lexer": "ipython2",
   "version": "2.7.6"
  }
 },
 "nbformat": 4,
 "nbformat_minor": 0
}