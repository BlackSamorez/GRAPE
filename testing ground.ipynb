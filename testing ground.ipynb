{
 "cells": [
  {
   "cell_type": "code",
   "execution_count": 1,
   "outputs": [],
   "source": [
    "import numpy as np\n",
    "\n",
    "from GRAPE import *\n",
    "import matplotlib.pyplot as plt\n",
    "from qiskit import Aer, execute"
   ],
   "metadata": {
    "collapsed": false,
    "pycharm": {
     "name": "#%%\n"
    }
   }
  },
  {
   "cell_type": "code",
   "execution_count": 2,
   "outputs": [],
   "source": [
    "J = np.zeros((3, 3))\n",
    "J[0][1] = 0.1385\n",
    "J[1][2] = 0.01304\n",
    "J[0][2] = 0.00148\n",
    "\n",
    "CX = np.eye(4)\n",
    "CX[2][2] = 0\n",
    "CX[3][3] = 0\n",
    "CX[2][3] = 1\n",
    "CX[3][2] = 1\n",
    "\n",
    "SWAP = np.eye(4)\n",
    "SWAP[1][1] = 0\n",
    "SWAP[2][2] = 0\n",
    "SWAP[1][2] = 1\n",
    "SWAP[2][1] = 1\n",
    "\n",
    "TOFFOLI = np.eye(8)\n",
    "TOFFOLI[6][6] = 0\n",
    "TOFFOLI[7][7] = 0\n",
    "TOFFOLI[6][7] = 1\n",
    "TOFFOLI[7][6] = 1"
   ],
   "metadata": {
    "collapsed": false,
    "pycharm": {
     "name": "#%%\n"
    }
   }
  },
  {
   "cell_type": "code",
   "execution_count": 3,
   "outputs": [
    {
     "data": {
      "text/plain": "'n = 10\\nm = 200\\nk = 4\\n\\ndescents = [GradientDescend(CX, k) for _ in range(n)]\\n\\nfor descent in descents:\\n    descent.noise = 0.05\\n    descent.randomize_params()\\n    descent.set_j(J)\\n\\nlosses = [descent.descend(steps=m, track_distance=True) for descent in descents]\\n\\nfor loss in losses:\\n    plt.plot(np.real(loss))\\nfor descent in descents:\\n    descent.make_times_positive()\\n    print(\"distance:\", descent.distance.round(6).real, \"; time:\", descent.time.round(2))'"
     },
     "execution_count": 3,
     "metadata": {},
     "output_type": "execute_result"
    }
   ],
   "source": [
    "'''n = 10\n",
    "m = 200\n",
    "k = 4\n",
    "\n",
    "descents = [GradientDescend(CX, k) for _ in range(n)]\n",
    "\n",
    "for descent in descents:\n",
    "    descent.noise = 0.05\n",
    "    descent.randomize_params()\n",
    "    descent.set_j(J)\n",
    "\n",
    "losses = [descent.descend(steps=m, track_distance=True) for descent in descents]\n",
    "\n",
    "for loss in losses:\n",
    "    plt.plot(np.real(loss))\n",
    "for descent in descents:\n",
    "    descent.make_times_positive()\n",
    "    print(\"distance:\", descent.distance.round(6).real, \"; time:\", descent.time.round(2))'''\n"
   ],
   "metadata": {
    "collapsed": false,
    "pycharm": {
     "name": "#%%\n"
    }
   }
  },
  {
   "cell_type": "code",
   "execution_count": 4,
   "outputs": [
    {
     "name": "stdout",
     "output_type": "stream",
     "text": [
      "(0.0008212400622674502+0j)\n"
     ]
    },
    {
     "name": "stderr",
     "output_type": "stream",
     "text": [
      "C:\\Users\\Panfe\\PycharmProjects\\GRAPE\\GRAPE.py:100: ComplexWarning: Casting complex values to real discards the imaginary part\n",
      "  evolution = evolution @ (math.cos(math.pi / 2 * self.J[i][j] * self.time) * np.eye(2 ** self.size,\n",
      "C:\\Users\\Panfe\\PycharmProjects\\GRAPE\\GRAPE.py:101: ComplexWarning: Casting complex values to real discards the imaginary part\n",
      "  dtype=complex) - 1j * math.sin(\n"
     ]
    }
   ],
   "source": [
    "descent = GradientDescend(CX, filename=\"CX.txt\")\n",
    "print(descent.distance)\n",
    "descent.to_device_text(filename=\"CX_d.txt\")\n"
   ],
   "metadata": {
    "collapsed": false,
    "pycharm": {
     "name": "#%%\n"
    }
   }
  }
 ],
 "metadata": {
  "kernelspec": {
   "display_name": "Python 3",
   "language": "python",
   "name": "python3"
  },
  "language_info": {
   "codemirror_mode": {
    "name": "ipython",
    "version": 2
   },
   "file_extension": ".py",
   "mimetype": "text/x-python",
   "name": "python",
   "nbconvert_exporter": "python",
   "pygments_lexer": "ipython2",
   "version": "2.7.6"
  }
 },
 "nbformat": 4,
 "nbformat_minor": 0
}