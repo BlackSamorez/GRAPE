{
 "cells": [
  {
   "cell_type": "code",
   "execution_count": 42,
   "outputs": [],
   "source": [
    "from GRAPE import *\n",
    "import matplotlib.pyplot as plt\n",
    "from qiskit import Aer, execute"
   ],
   "metadata": {
    "collapsed": false,
    "pycharm": {
     "name": "#%%\n"
    }
   }
  },
  {
   "cell_type": "code",
   "execution_count": 43,
   "outputs": [],
   "source": [
    "CX = np.eye(4)\n",
    "CX[2][2] = 0\n",
    "CX[3][3] = 0\n",
    "CX[2][3] = 1\n",
    "CX[3][2] = 1\n",
    "\n",
    "SWAP = np.eye(4)\n",
    "SWAP[1][1] = 0\n",
    "SWAP[2][2] = 0\n",
    "SWAP[1][2] = 1\n",
    "SWAP[2][1] = 1\n",
    "\n",
    "TOFFOLI = np.eye(8)\n",
    "TOFFOLI[6][6] = 0\n",
    "TOFFOLI[7][7] = 0\n",
    "TOFFOLI[6][7] = 1\n",
    "TOFFOLI[7][6] = 1"
   ],
   "metadata": {
    "collapsed": false,
    "pycharm": {
     "name": "#%%\n"
    }
   }
  },
  {
   "cell_type": "code",
   "execution_count": 44,
   "outputs": [
    {
     "name": "stderr",
     "output_type": "stream",
     "text": [
      "C:\\Users\\Panfe\\PycharmProjects\\GRAPE\\GRAPE.py:74: ComplexWarning: Casting complex values to real discards the imaginary part\n",
      "  evolution = evolution @ (math.cos(math.pi / 2 * self.J[i][j] * self.time) * np.eye(2 ** self.size,\n",
      "C:\\Users\\Panfe\\PycharmProjects\\GRAPE\\GRAPE.py:75: ComplexWarning: Casting complex values to real discards the imaginary part\n",
      "  dtype=complex) - 1j * math.sin(\n",
      "C:\\Users\\Panfe\\PycharmProjects\\GRAPE\\GRAPE.py:20: ComplexWarning: Casting complex values to real discards the imaginary part\n",
      "  matrix = math.cos(self.params[0] / 2) * self.__Id - 1j * math.sin(self.params[0] / 2) * (\n",
      "C:\\Users\\Panfe\\PycharmProjects\\GRAPE\\GRAPE.py:21: ComplexWarning: Casting complex values to real discards the imaginary part\n",
      "  math.cos(self.params[1]) * self.__X + math.sin(self.params[1]) * self.__Y)\n"
     ]
    }
   ],
   "source": [
    "evo = Evolution(TOFFOLI, 10)\n",
    "\n",
    "evo.randomize_params()\n"
   ],
   "metadata": {
    "collapsed": false,
    "pycharm": {
     "name": "#%%\n"
    }
   }
  },
  {
   "cell_type": "code",
   "execution_count": 45,
   "outputs": [
    {
     "name": "stderr",
     "output_type": "stream",
     "text": [
      "C:\\Users\\Panfe\\PycharmProjects\\GRAPE\\GRAPE.py:103: ComplexWarning: Casting complex values to real discards the imaginary part\n",
      "  circuit.hamiltonian(self.hamiltonian, float(self.time), circuit.qubits)\n"
     ]
    }
   ],
   "source": [
    "circuit = evo.to_qiskit()"
   ],
   "metadata": {
    "collapsed": false,
    "pycharm": {
     "name": "#%%\n"
    }
   }
  },
  {
   "cell_type": "code",
   "execution_count": 46,
   "outputs": [
    {
     "data": {
      "text/plain": "global phase: 1.1783\n     ┌──────────────────┐┌──────────────┐┌──────────────────┐┌──────────────┐»\nq_0: ┤ R(5.7743,4.2212) ├┤0             ├┤ R(5.8126,2.0443) ├┤0             ├»\n     ├──────────────────┤│              │├─────────────────┬┘│              │»\nq_1: ┤ R(2.9072,3.0026) ├┤1 Hamiltonian ├┤ R(12.514,2.699) ├─┤1 Hamiltonian ├»\n     ├──────────────────┤│              │├─────────────────┴┐│              │»\nq_2: ┤ R(1.5217,1.8019) ├┤2             ├┤ R(5.5475,2.2093) ├┤2             ├»\n     └──────────────────┘└──────────────┘└──────────────────┘└──────────────┘»\n«      ┌──────────────────┐┌──────────────┐ ┌──────────────────┐»\n«q_0: ─┤ R(2.8035,2.3879) ├┤0             ├─┤ R(4.0257,3.5893) ├»\n«     ┌┴──────────────────┤│              │ ├──────────────────┤»\n«q_1: ┤ R(4.4586,0.26589) ├┤1 Hamiltonian ├─┤ R(3.1345,3.9685) ├»\n«     └┬──────────────────┤│              │┌┴──────────────────┤»\n«q_2: ─┤ R(3.7804,4.4974) ├┤2             ├┤ R(0.79024,2.1882) ├»\n«      └──────────────────┘└──────────────┘└───────────────────┘»\n«     ┌──────────────┐┌───────────────────┐┌──────────────┐»\n«q_0: ┤0             ├┤ R(1.6257,0.74129) ├┤0             ├»\n«     │              │└┬──────────────────┤│              │»\n«q_1: ┤1 Hamiltonian ├─┤ R(12.452,5.8609) ├┤1 Hamiltonian ├»\n«     │              │┌┴──────────────────┤│              │»\n«q_2: ┤2             ├┤ R(2.3253,0.78968) ├┤2             ├»\n«     └──────────────┘└───────────────────┘└──────────────┘»\n«      ┌──────────────────┐┌──────────────┐ ┌──────────────────┐ »\n«q_0: ─┤ R(3.5632,4.2793) ├┤0             ├─┤ R(5.8583,2.0236) ├─»\n«     ┌┴──────────────────┤│              │┌┴──────────────────┴┐»\n«q_1: ┤ R(0.73193,2.8278) ├┤1 Hamiltonian ├┤ R(1.1011,0.030518) ├»\n«     └┬──────────────────┤│              │├───────────────────┬┘»\n«q_2: ─┤ R(5.1073,4.2391) ├┤2             ├┤ R(3.9422,0.17177) ├─»\n«      └──────────────────┘└──────────────┘└───────────────────┘ »\n«     ┌──────────────┐ ┌─────────────────┐ ┌──────────────┐»\n«q_0: ┤0             ├─┤ R(3.2664,5.047) ├─┤0             ├»\n«     │              │ ├─────────────────┤ │              │»\n«q_1: ┤1 Hamiltonian ├─┤ R(4.705,3.8525) ├─┤1 Hamiltonian ├»\n«     │              │┌┴─────────────────┴┐│              │»\n«q_2: ┤2             ├┤ R(3.7088,0.13369) ├┤2             ├»\n«     └──────────────┘└───────────────────┘└──────────────┘»\n«      ┌──────────────────┐┌──────────────┐┌────────────────────┐»\n«q_0: ─┤ R(1.2292,4.9462) ├┤0             ├┤ R(0.052107,1.8006) ├»\n«     ┌┴──────────────────┤│              │└┬──────────────────┬┘»\n«q_1: ┤ R(3.8851,0.64213) ├┤1 Hamiltonian ├─┤ R(1.4517,4.6073) ├─»\n«     ├───────────────────┤│              │ ├──────────────────┤ »\n«q_2: ┤ R(4.7274,0.58578) ├┤2             ├─┤ R(3.2184,1.1559) ├─»\n«     └───────────────────┘└──────────────┘ └──────────────────┘ »\n«     ┌──────────────┐\n«q_0: ┤0             ├\n«     │              │\n«q_1: ┤1 Hamiltonian ├\n«     │              │\n«q_2: ┤2             ├\n«     └──────────────┘",
      "text/html": "<pre style=\"word-wrap: normal;white-space: pre;background: #fff0;line-height: 1.1;font-family: &quot;Courier New&quot;,Courier,monospace\">global phase: 1.1783\n     ┌──────────────────┐┌──────────────┐┌──────────────────┐┌──────────────┐»\nq_0: ┤ R(5.7743,4.2212) ├┤0             ├┤ R(5.8126,2.0443) ├┤0             ├»\n     ├──────────────────┤│              │├─────────────────┬┘│              │»\nq_1: ┤ R(2.9072,3.0026) ├┤1 Hamiltonian ├┤ R(12.514,2.699) ├─┤1 Hamiltonian ├»\n     ├──────────────────┤│              │├─────────────────┴┐│              │»\nq_2: ┤ R(1.5217,1.8019) ├┤2             ├┤ R(5.5475,2.2093) ├┤2             ├»\n     └──────────────────┘└──────────────┘└──────────────────┘└──────────────┘»\n«      ┌──────────────────┐┌──────────────┐ ┌──────────────────┐»\n«q_0: ─┤ R(2.8035,2.3879) ├┤0             ├─┤ R(4.0257,3.5893) ├»\n«     ┌┴──────────────────┤│              │ ├──────────────────┤»\n«q_1: ┤ R(4.4586,0.26589) ├┤1 Hamiltonian ├─┤ R(3.1345,3.9685) ├»\n«     └┬──────────────────┤│              │┌┴──────────────────┤»\n«q_2: ─┤ R(3.7804,4.4974) ├┤2             ├┤ R(0.79024,2.1882) ├»\n«      └──────────────────┘└──────────────┘└───────────────────┘»\n«     ┌──────────────┐┌───────────────────┐┌──────────────┐»\n«q_0: ┤0             ├┤ R(1.6257,0.74129) ├┤0             ├»\n«     │              │└┬──────────────────┤│              │»\n«q_1: ┤1 Hamiltonian ├─┤ R(12.452,5.8609) ├┤1 Hamiltonian ├»\n«     │              │┌┴──────────────────┤│              │»\n«q_2: ┤2             ├┤ R(2.3253,0.78968) ├┤2             ├»\n«     └──────────────┘└───────────────────┘└──────────────┘»\n«      ┌──────────────────┐┌──────────────┐ ┌──────────────────┐ »\n«q_0: ─┤ R(3.5632,4.2793) ├┤0             ├─┤ R(5.8583,2.0236) ├─»\n«     ┌┴──────────────────┤│              │┌┴──────────────────┴┐»\n«q_1: ┤ R(0.73193,2.8278) ├┤1 Hamiltonian ├┤ R(1.1011,0.030518) ├»\n«     └┬──────────────────┤│              │├───────────────────┬┘»\n«q_2: ─┤ R(5.1073,4.2391) ├┤2             ├┤ R(3.9422,0.17177) ├─»\n«      └──────────────────┘└──────────────┘└───────────────────┘ »\n«     ┌──────────────┐ ┌─────────────────┐ ┌──────────────┐»\n«q_0: ┤0             ├─┤ R(3.2664,5.047) ├─┤0             ├»\n«     │              │ ├─────────────────┤ │              │»\n«q_1: ┤1 Hamiltonian ├─┤ R(4.705,3.8525) ├─┤1 Hamiltonian ├»\n«     │              │┌┴─────────────────┴┐│              │»\n«q_2: ┤2             ├┤ R(3.7088,0.13369) ├┤2             ├»\n«     └──────────────┘└───────────────────┘└──────────────┘»\n«      ┌──────────────────┐┌──────────────┐┌────────────────────┐»\n«q_0: ─┤ R(1.2292,4.9462) ├┤0             ├┤ R(0.052107,1.8006) ├»\n«     ┌┴──────────────────┤│              │└┬──────────────────┬┘»\n«q_1: ┤ R(3.8851,0.64213) ├┤1 Hamiltonian ├─┤ R(1.4517,4.6073) ├─»\n«     ├───────────────────┤│              │ ├──────────────────┤ »\n«q_2: ┤ R(4.7274,0.58578) ├┤2             ├─┤ R(3.2184,1.1559) ├─»\n«     └───────────────────┘└──────────────┘ └──────────────────┘ »\n«     ┌──────────────┐\n«q_0: ┤0             ├\n«     │              │\n«q_1: ┤1 Hamiltonian ├\n«     │              │\n«q_2: ┤2             ├\n«     └──────────────┘</pre>"
     },
     "execution_count": 46,
     "metadata": {},
     "output_type": "execute_result"
    }
   ],
   "source": [
    "circuit.draw()"
   ],
   "metadata": {
    "collapsed": false,
    "pycharm": {
     "name": "#%%\n"
    }
   }
  },
  {
   "cell_type": "code",
   "execution_count": 47,
   "outputs": [
    {
     "name": "stdout",
     "output_type": "stream",
     "text": [
      "[[ 0.9-0.j   0.1+0.3j -0. +0.j  -0. -0.j   0. +0.j   0.2-0.2j -0. -0.j\n",
      "  -0. -0.j ]\n",
      " [-0.1+0.3j  0.9+0.j   0. +0.j   0. +0.j   0.2+0.j  -0. -0.j  -0. -0.j\n",
      "  -0. +0.j ]\n",
      " [ 0. +0.j  -0. +0.j   0.9+0.j   0. +0.4j -0.1+0.j  -0. +0.j  -0. +0.j\n",
      "   0. -0.j ]\n",
      " [ 0. -0.j   0. +0.j  -0. +0.4j  0.9+0.j  -0. -0.j   0. +0.j  -0. +0.j\n",
      "   0. -0.j ]\n",
      " [-0. +0.j  -0.2+0.j   0.1+0.j   0.1+0.j   0.9+0.j  -0.1-0.3j  0. +0.j\n",
      "  -0. +0.j ]\n",
      " [-0.2-0.2j  0. -0.j   0. -0.j  -0. +0.j   0.1-0.3j  0.9-0.j   0. -0.j\n",
      "  -0. -0.j ]\n",
      " [-0. -0.j  -0. +0.j   0. -0.j   0. -0.j   0. +0.j   0. +0.j  -0. -0.4j\n",
      "   0.9-0.j ]\n",
      " [ 0. -0.j   0. -0.j  -0. +0.j  -0. +0.j  -0. +0.j  -0. -0.j   0.9+0.j\n",
      "   0. -0.4j]] \n",
      " [[ 1.-0.j  0.+0.j -0.+0.j -0.-0.j  0.+0.j  0.-0.j -0.-0.j -0.-0.j]\n",
      " [-0.+0.j  1.+0.j  0.+0.j  0.+0.j  0.+0.j -0.-0.j -0.-0.j -0.+0.j]\n",
      " [ 0.+0.j -0.+0.j  1.+0.j  0.+0.j -0.+0.j -0.+0.j -0.+0.j  0.-0.j]\n",
      " [ 0.-0.j  0.+0.j -0.+0.j  1.+0.j -0.-0.j  0.+0.j -0.+0.j  0.-0.j]\n",
      " [-0.+0.j -0.+0.j  0.+0.j  0.+0.j  1.+0.j -0.-0.j  0.+0.j -0.+0.j]\n",
      " [-0.-0.j  0.-0.j  0.-0.j -0.+0.j  0.-0.j  1.-0.j  0.-0.j -0.-0.j]\n",
      " [-0.-0.j -0.+0.j  0.-0.j  0.-0.j  0.+0.j  0.+0.j -0.-0.j  1.-0.j]\n",
      " [ 0.-0.j  0.-0.j -0.+0.j -0.+0.j -0.+0.j -0.-0.j  1.+0.j  0.-0.j]]\n"
     ]
    }
   ],
   "source": [
    "backend = Aer.get_backend('unitary_simulator')\n",
    "job = execute(circuit, backend)\n",
    "result = job.result()\n",
    "matrix = result.get_unitary(circuit, decimals=2)\n",
    "print(evo.matrix.round(1), \"\\n\" ,matrix.round(0))"
   ],
   "metadata": {
    "collapsed": false,
    "pycharm": {
     "name": "#%%\n"
    }
   }
  },
  {
   "cell_type": "code",
   "execution_count": 48,
   "outputs": [
    {
     "name": "stderr",
     "output_type": "stream",
     "text": [
      "C:\\Users\\Panfe\\anaconda3\\envs\\GRAPE\\lib\\site-packages\\numpy\\core\\_asarray.py:102: ComplexWarning: Casting complex values to real discards the imaginary part\n",
      "  return array(a, dtype, copy=False, order=order)\n"
     ]
    },
    {
     "data": {
      "text/plain": "[<matplotlib.lines.Line2D at 0x21d0a571310>]"
     },
     "execution_count": 48,
     "metadata": {},
     "output_type": "execute_result"
    },
    {
     "data": {
      "text/plain": "<Figure size 432x288 with 1 Axes>",
      "image/png": "[encoded data removed]"
     },
     "metadata": {
      "needs_background": "light"
     },
     "output_type": "display_data"
    }
   ],
   "source": [
    "plt.plot(path)"
   ],
   "metadata": {
    "collapsed": false,
    "pycharm": {
     "name": "#%%\n"
    }
   }
  },
  {
   "cell_type": "code",
   "execution_count": 49,
   "outputs": [],
   "source": [
    "path = evo.descend(1000, track_distance=True)"
   ],
   "metadata": {
    "collapsed": false,
    "pycharm": {
     "name": "#%%\n"
    }
   }
  },
  {
   "cell_type": "code",
   "execution_count": null,
   "outputs": [],
   "source": [],
   "metadata": {
    "collapsed": false,
    "pycharm": {
     "name": "#%%\n"
    }
   }
  }
 ],
 "metadata": {
  "kernelspec": {
   "display_name": "Python 3",
   "language": "python",
   "name": "python3"
  },
  "language_info": {
   "codemirror_mode": {
    "name": "ipython",
    "version": 2
   },
   "file_extension": ".py",
   "mimetype": "text/x-python",
   "name": "python",
   "nbconvert_exporter": "python",
   "pygments_lexer": "ipython2",
   "version": "2.7.6"
  }
 },
 "nbformat": 4,
 "nbformat_minor": 0
}