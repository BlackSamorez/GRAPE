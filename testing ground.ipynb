{
 "cells": [
  {
   "cell_type": "code",
   "execution_count": 1,
   "outputs": [],
   "source": [
    "import numpy as np\n",
    "import math\n",
    "from GRAPE import *\n",
    "import matplotlib.pyplot as plt\n",
    "from qiskit import Aer, execute\n",
    "import warnings\n",
    "warnings.filterwarnings('ignore')"
   ],
   "metadata": {
    "collapsed": false,
    "pycharm": {
     "name": "#%%\n"
    }
   }
  },
  {
   "cell_type": "code",
   "execution_count": 2,
   "outputs": [],
   "source": [
    "H = math.sqrt(0.5)*np.array([1,1,1,-1]).reshape(2,2)\n",
    "X = np.array([0,1,1,0]).reshape(2,2)\n",
    "Y = np.array([0,-1j,1j,0]).reshape(2,2)\n",
    "Z = np.array([1,0,0,-1]).reshape(2,2)\n",
    "U = np.linalg.eig(H)[1].conj().T\n",
    "\n",
    "CX = np.eye(4)\n",
    "CX[2][2] = 0\n",
    "CX[3][3] = 0\n",
    "CX[2][3] = 1\n",
    "CX[3][2] = 1\n",
    "\n",
    "CZ = np.eye(4)\n",
    "CZ[3][3] = -1\n",
    "\n",
    "CCZ = np.eye(8)\n",
    "CCZ[7][7] = -1\n",
    "\n",
    "TOFFOLI = np.eye(8)\n",
    "TOFFOLI[6][6] = 0\n",
    "TOFFOLI[7][7] = 0\n",
    "TOFFOLI[6][7] = 1\n",
    "TOFFOLI[7][6] = 1\n",
    "\n",
    "U1 = np.kron(np.kron(X,U),np.eye(2))\n",
    "V1 = CCZ\n",
    "Ud1 = U1.conj().T\n",
    "\n",
    "U2 = np.kron(np.kron(X,U),np.eye(2))\n",
    "V2 = np.kron(CZ,np.eye(2))\n",
    "Ud2 = U2.conj().T\n",
    "\n",
    "\n",
    "U3 = np.kron(np.kron(np.eye(2),U),np.eye(2))\n",
    "V3 = np.kron(np.eye(2),CZ)\n",
    "Ud3 = U3.conj().T\n",
    "\n",
    "U4 = np.kron(np.kron(np.eye(2),U),np.eye(2))\n",
    "V4 = np.kron(CZ,np.eye(2)) @ np.kron(np.eye(2),CZ)\n",
    "Ud4 = U4.conj().T\n",
    "\n",
    "U5 = np.kron(np.kron(np.eye(2),X @ U),np.eye(2))\n",
    "V5 = CCZ\n",
    "Ud5 = U5.conj().T\n",
    "\n",
    "J = np.zeros((3, 3))\n",
    "J[0][1] = 0.1385\n",
    "J[1][2] = 0.01304\n",
    "J[0][2] = 0.00148\n",
    "\n",
    "gates = [[U1, V1, Ud1], [U2, V2, Ud2], [U3, V3, Ud3], [U4, V4, Ud4], [U5, V5, Ud5]]"
   ],
   "metadata": {
    "collapsed": false,
    "pycharm": {
     "name": "#%%\n"
    }
   }
  },
  {
   "cell_type": "code",
   "execution_count": 3,
   "outputs": [],
   "source": [
    "indices = [\"U\", \"V\", \"Ud\"]\n",
    "for number, index in []:\n",
    "    if True:\n",
    "        print(number, index, \":\\n\")\n",
    "\n",
    "        n = 200\n",
    "        m = 200\n",
    "        k = 6\n",
    "\n",
    "        descents = [GradientDescent(gates[number - 1][index], k) for _ in range(n)]\n",
    "\n",
    "        for descent in descents:\n",
    "            descent.noise = 1\n",
    "            descent.randomize_params()\n",
    "            descent.set_j(J)\n",
    "\n",
    "        losses = [descent.descend(steps=m, track_distance=True, time_sensitive=True) for descent in descents]\n",
    "\n",
    "        #for loss in losses:\n",
    "         #   plt.plot(np.real(loss[10:]))\n",
    "\n",
    "\n",
    "        t_min = 600\n",
    "        p_min = -1\n",
    "        for i in range(n):\n",
    "            if descents[i].time < 600 and descents[i].distance < 1:\n",
    "                descents[i].make_times_positive()\n",
    "                if descents[i].time < t_min:\n",
    "                    t_min = descents[i].time\n",
    "                    p_min = i\n",
    "                #print(\"i: \", i, \" ; distance:\", descents[i].distance.round(6).real, \"; time:\", descents[i].time.round(2))\n",
    "        print(f\"Choose descent {p_min} : time={descents[p_min].time}, distance={descents[p_min].distance}\")\n",
    "\n",
    "\n",
    "        descent = descents[p_min]\n",
    "\n",
    "        loss = descent.descend(steps=4000, track_distance=True, time_sensitive=False)\n",
    "        plt.plot(np.real(loss))\n",
    "\n",
    "        print(f\"Distance: {descent.distance.real}; Time: {descent.time.real}\")\n",
    "        descent.to_text(f\"./Oleg/{indices[index]}{number}.oleg\")\n",
    "\n",
    "\n",
    "\n"
   ],
   "metadata": {
    "collapsed": false,
    "pycharm": {
     "name": "#%%\n"
    }
   }
  },
  {
   "cell_type": "code",
   "execution_count": 5,
   "outputs": [
    {
     "name": "stdout",
     "output_type": "stream",
     "text": [
      "Was :(0.009982827294648167+0j)\n",
      "Now :(0.009982827294648167+0j)\n",
      "Was :(0.00947231898449203+0j)\n",
      "Now :(0.00947231898449203+0j)\n",
      "Was :(0.009536724343726835+0j)\n",
      "Now :(0.009536724343726835+0j)\n",
      "Was :(0.009998571881879834+0j)\n",
      "Now :(0.009998571881879834+0j)\n",
      "Was :(0.009952810155975881+0j)\n",
      "Now :(0.009952810155975881+0j)\n",
      "Was :(0.00958615927608204+0j)\n",
      "Now :(0.00958615927608204+0j)\n",
      "Was :(0.009961730279575759+0j)\n",
      "Now :(0.009961730279575759+0j)\n",
      "Was :(0.00993125123128913+0j)\n",
      "Now :(0.00993125123128913+0j)\n",
      "Was :(0.009302207506194309+0j)\n",
      "Now :(0.009302207506194309+0j)\n",
      "Was :(0.009446523739724946+0j)\n",
      "Now :(0.009446523739724946+0j)\n",
      "Was :(0.009991791409239614+0j)\n",
      "Now :(0.009991791409239614+0j)\n",
      "Was :(0.006584869707886002+0j)\n",
      "Now :(0.006584869707886002+0j)\n",
      "Was :(0.0046353111930881215+0j)\n",
      "Now :(0.0046353111930881215+0j)\n",
      "Was :(0.009999293439625807+0j)\n",
      "Now :(0.009999293439625807+0j)\n",
      "Was :(0.009981562141335658+0j)\n",
      "Now :(0.009981562141335658+0j)\n"
     ]
    }
   ],
   "source": [
    "indices = [\"U\", \"V\", \"Ud\"]\n",
    "for number in [1, 2, 3, 4, 5]:\n",
    "    for index in [0, 1, 2]:\n",
    "        descent = GradientDescent(gates[number - 1][index], filename=f\"./Oleg/{indices[index]}{number}.oleg\")\n",
    "        print(f\"Was :{descent.distance}\")\n",
    "        while descent.distance > 0.01:\n",
    "            descent.descend(steps=200, track_distance=False, time_sensitive=False)\n",
    "        print(f\"Now :{descent.distance}\")\n",
    "        descent.to_text(f\"./Oleg/{indices[index]}{number}.device\")"
   ],
   "metadata": {
    "collapsed": false,
    "pycharm": {
     "name": "#%%\n"
    }
   }
  },
  {
   "cell_type": "code",
   "execution_count": 4,
   "outputs": [],
   "source": [],
   "metadata": {
    "collapsed": false,
    "pycharm": {
     "name": "#%%\n"
    }
   }
  }
 ],
 "metadata": {
  "kernelspec": {
   "display_name": "Python 3",
   "language": "python",
   "name": "python3"
  },
  "language_info": {
   "codemirror_mode": {
    "name": "ipython",
    "version": 2
   },
   "file_extension": ".py",
   "mimetype": "text/x-python",
   "name": "python",
   "nbconvert_exporter": "python",
   "pygments_lexer": "ipython2",
   "version": "2.7.6"
  }
 },
 "nbformat": 4,
 "nbformat_minor": 0
}