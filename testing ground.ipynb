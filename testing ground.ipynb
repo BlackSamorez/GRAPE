{
 "cells": [
  {
   "cell_type": "code",
   "execution_count": 1,
   "outputs": [
    {
     "name": "stderr",
     "output_type": "stream",
     "text": [
      "C:\\Users\\Panfe\\PycharmProjects\\GRAPE\\GRAPE\\GRAPE_OLD.py:103: ComplexWarning: Casting complex values to real discards the imaginary part\n",
      "  evolution = evolution @ (math.cos(math.pi / 2 * self.j[i][j] * self.time) * np.eye(2 ** self.size,\n",
      "C:\\Users\\Panfe\\PycharmProjects\\GRAPE\\GRAPE\\GRAPE_OLD.py:104: ComplexWarning: Casting complex values to real discards the imaginary part\n",
      "  dtype=complex) - 1j * math.sin(\n"
     ]
    }
   ],
   "source": [
    "import matplotlib.pyplot as plt\n",
    "import numpy as np\n",
    "from GRAPE.multiqubitgates import Pulse, Delay, Inversion, CXCascade\n",
    "from GRAPE.circuit import Circuit\n",
    "from GRAPE.GRAPE import GradientOptimization\n",
    "from GRAPE.GRAPE_OLD import GradientDescent\n",
    "\n",
    "def norm(matrix1, matrix2):\n",
    "    return ((matrix1 - matrix2) @ (matrix1 - matrix2).conjugate().T).trace()\n",
    "\n",
    "cx = np.asarray([[1, 0, 0, 0],\n",
    "                 [0, 1, 0, 0],\n",
    "                 [0, 0, 0, 1],\n",
    "                 [0, 0, 1, 0]], dtype=complex)\n",
    "\n",
    "circuit = Circuit(2)\n",
    "circuit += Pulse(2, \"nmr\")\n",
    "circuit += Delay(2)\n",
    "circuit += Pulse(2, \"nmr\")\n",
    "\n",
    "new = GradientOptimization(cx, circuit)\n",
    "old = GradientDescent(cx, 1)\n",
    "\n",
    "pp1 = np.random.random((4,))\n",
    "time1 = 0\n",
    "pp2 = np.random.random((4,))\n",
    "\n",
    "for i in range(4):\n",
    "    new.circuit.gates[0].params[i] = pp1[i]\n",
    "    old.gates[0].basic_gates[i // 2].params[i % 2] = pp1[i]\n",
    "new.circuit.gates[1].params[0] = time1\n",
    "old.gates[1].time = time1\n",
    "for i in range(4):\n",
    "    new.circuit.gates[2].params[i] = pp2[i]\n",
    "    old.gates[2].basic_gates[i // 2].params[i % 2] = pp2[i]\n",
    "new.update()\n",
    "old.update()\n"
   ],
   "metadata": {
    "collapsed": false,
    "pycharm": {
     "name": "#%%\n"
    }
   }
  },
  {
   "cell_type": "code",
   "execution_count": 2,
   "outputs": [
    {
     "name": "stdout",
     "output_type": "stream",
     "text": [
      "[[ 0.85924956-0.01130485j -0.1638937 -0.2571794j  -0.08836073-0.3766932j\n",
      "  -0.09716939+0.09701922j]\n",
      " [ 0.17037374-0.25293315j  0.85868512+0.03312803j -0.12774312-0.05036184j\n",
      "  -0.06876994-0.38075725j]\n",
      " [ 0.06876994-0.38075725j -0.12774312+0.05036184j  0.85868512-0.03312803j\n",
      "  -0.17037374-0.25293315j]\n",
      " [-0.09716939-0.09701922j  0.08836073-0.3766932j   0.1638937 -0.2571794j\n",
      "   0.85924956+0.01130485j]]\n",
      "[[0.+0.j 0.+0.j 0.+0.j 0.+0.j]\n",
      " [0.+0.j 0.+0.j 0.+0.j 0.+0.j]\n",
      " [0.+0.j 0.+0.j 0.+0.j 0.+0.j]\n",
      " [0.+0.j 0.+0.j 0.+0.j 0.+0.j]]\n"
     ]
    }
   ],
   "source": [
    "# Compare matrices\n",
    "print(new.matrix)\n",
    "print((old.matrix - new.matrix).round(2))"
   ],
   "metadata": {
    "collapsed": false,
    "pycharm": {
     "name": "#%%\n"
    }
   }
  },
  {
   "cell_type": "code",
   "execution_count": 3,
   "outputs": [
    {
     "name": "stdout",
     "output_type": "stream",
     "text": [
      "0j\n",
      "0j\n",
      "0j\n",
      "0j\n",
      "0j\n",
      "0j\n",
      "0j\n",
      "0j\n",
      "0j\n"
     ]
    }
   ],
   "source": [
    "# compare gate derivatives\n",
    "for i in range(4):\n",
    "    print(norm(old.gates[0].derivative[i // 2][i % 2], new.circuit.gates[0].derivative[i]))\n",
    "print(norm(old.gates[1].derivative, new.circuit.gates[1].derivative[0]))\n",
    "for i in range(4):\n",
    "    print(norm(old.gates[2].derivative[i // 2][i % 2], new.circuit.gates[2].derivative[i]))"
   ],
   "metadata": {
    "collapsed": false,
    "pycharm": {
     "name": "#%%\n"
    }
   }
  },
  {
   "cell_type": "code",
   "execution_count": 4,
   "outputs": [
    {
     "name": "stdout",
     "output_type": "stream",
     "text": [
      "0j\n",
      "0j\n",
      "0j\n",
      "0j\n",
      "0j\n",
      "0j\n",
      "0j\n",
      "0j\n"
     ]
    }
   ],
   "source": [
    "# compare basic gates derivatives\n",
    "for i in range(4):\n",
    "    print(norm(old.gates[0].basic_gates[i // 2].derivative[i % 2], new.circuit.gates[0].basic_gates[i // 2].derivative[i % 2]))\n",
    "for i in range(4):\n",
    "    print(norm(old.gates[2].basic_gates[i // 2].derivative[i % 2], new.circuit.gates[2].basic_gates[i // 2].derivative[i % 2]))"
   ],
   "metadata": {
    "collapsed": false,
    "pycharm": {
     "name": "#%%\n"
    }
   }
  },
  {
   "cell_type": "code",
   "execution_count": 4,
   "outputs": [],
   "source": [],
   "metadata": {
    "collapsed": false,
    "pycharm": {
     "name": "#%%\n"
    }
   }
  }
 ],
 "metadata": {
  "kernelspec": {
   "display_name": "Python 3",
   "language": "python",
   "name": "python3"
  },
  "language_info": {
   "codemirror_mode": {
    "name": "ipython",
    "version": 2
   },
   "file_extension": ".py",
   "mimetype": "text/x-python",
   "name": "python",
   "nbconvert_exporter": "python",
   "pygments_lexer": "ipython2",
   "version": "2.7.6"
  }
 },
 "nbformat": 4,
 "nbformat_minor": 0
}