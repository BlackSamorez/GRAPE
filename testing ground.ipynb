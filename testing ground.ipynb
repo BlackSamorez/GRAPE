{
 "cells": [
  {
   "cell_type": "code",
   "execution_count": 3,
   "outputs": [
    {
     "data": {
      "text/plain": "[<matplotlib.lines.Line2D at 0x7f6b52b0afa0>]"
     },
     "execution_count": 3,
     "metadata": {},
     "output_type": "execute_result"
    },
    {
     "data": {
      "text/plain": "<Figure size 432x288 with 1 Axes>",
      "image/png": "[encoded data removed]"
     },
     "metadata": {
      "needs_background": "light"
     },
     "output_type": "display_data"
    }
   ],
   "source": [
    "import numpy as np\n",
    "import matplotlib.pyplot as plt\n",
    "from GRAPE import *\n",
    "\n",
    "J = np.zeros((3, 3))\n",
    "J[0][1] = 0.1385\n",
    "J[1][2] = 0.01304\n",
    "J[0][2] = 0.00148\n",
    "\n",
    "TOFFOLI = np.eye(8)\n",
    "TOFFOLI[6][6] = 0\n",
    "TOFFOLI[7][7] = 0\n",
    "TOFFOLI[6][7] = 1\n",
    "TOFFOLI[7][6] = 1\n",
    "\n",
    "desc = GradientOptimization(TOFFOLI)\n",
    "desc.set_j(J)\n",
    "desc.randomize_params()\n",
    "dist = desc.descend(time_sensitive=True, track_distance=True)\n",
    "plt.plot(dist)"
   ],
   "metadata": {
    "collapsed": false,
    "pycharm": {
     "name": "#%%\n"
    }
   }
  },
  {
   "cell_type": "code",
   "execution_count": 4,
   "outputs": [
    {
     "name": "stderr",
     "output_type": "stream",
     "text": [
      "/home/black_samorez/anaconda3/envs/GRAPE/lib/python3.9/site-packages/qiskit/circuit/quantumcircuit.py:876: DeprecationWarning: The QuantumCircuit.extend() method is being deprecated. Use the compose() (potentially with the inplace=True argument) and tensor() methods which are more flexible w.r.t circuit register compatibility.\n",
      "  return self.extend(rhs)\n"
     ]
    },
    {
     "data": {
      "text/plain": "global phase: 6.2823\n     ┌──────────────────┐          ┌───┐  ┌──────────────────┐           ┌───┐»\nq_0: ┤ R(1.5707,1.5712) ├──■───────┤ X ├──┤ R(12.566,4.9359) ├───■───────┤ X ├»\n     ├──────────────────┤┌─┴─┐     └─┬─┘┌─┴──────────────────┴┐┌─┴─┐     └─┬─┘»\nq_1: ┤ R(12.557,4.1887) ├┤ X ├──■────┼──┤ R(0.00013811,2.761) ├┤ X ├──■────┼──»\n     ├──────────────────┤└───┘┌─┴─┐  │  └─┬──────────────────┬┘└───┘┌─┴─┐  │  »\nq_2: ┤ R(3.1418,1.5711) ├─────┤ X ├──■────┤ R(1.5708,1.5703) ├──────┤ X ├──■──»\n     └──────────────────┘     └───┘       └──────────────────┘      └───┘     »\n«     ┌──────────────────┐          ┌───┐┌──────────────────┐          ┌───┐»\n«q_0: ┤ R(7.1503,1.5708) ├──■───────┤ X ├┤ R(6.2833,4.7003) ├──■───────┤ X ├»\n«     ├──────────────────┤┌─┴─┐     └─┬─┘├──────────────────┤┌─┴─┐     └─┬─┘»\n«q_1: ┤ R(1.0285,4.7125) ├┤ X ├──■────┼──┤ R(1.5705,4.7116) ├┤ X ├──■────┼──»\n«     ├──────────────────┤└───┘┌─┴─┐  │  ├──────────────────┤└───┘┌─┴─┐  │  »\n«q_2: ┤ R(1.5707,1.5707) ├─────┤ X ├──■──┤ R(4.7125,1.5713) ├─────┤ X ├──■──»\n«     └──────────────────┘     └───┘     └──────────────────┘     └───┘     »\n«       ┌──────────────────┐            ┌───┐┌──────────────────┐          »\n«q_0: ──┤ R(4.1703,1.5709) ├────■───────┤ X ├┤ R(6.2838,5.6333) ├──■───────»\n«       ├──────────────────┤  ┌─┴─┐     └─┬─┘├──────────────────┤┌─┴─┐     »\n«q_1: ──┤ R(2.9166,4.7123) ├──┤ X ├──■────┼──┤ R(1.5707,1.5708) ├┤ X ├──■──»\n«     ┌─┴──────────────────┴─┐└───┘┌─┴─┐  │  ├──────────────────┤└───┘┌─┴─┐»\n«q_2: ┤ R(0.00016286,4.7378) ├─────┤ X ├──■──┤ R(4.7125,4.7118) ├─────┤ X ├»\n«     └──────────────────────┘     └───┘     └──────────────────┘     └───┘»\n«     ┌───┐┌──────────────────┐\n«q_0: ┤ X ├┤ R(4.9373,4.7128) ├\n«     └─┬─┘├──────────────────┤\n«q_1: ──┼──┤ R(2.2661,1.5717) ├\n«       │  ├──────────────────┤\n«q_2: ──■──┤ R(3.1414,1.5705) ├\n«          └──────────────────┘",
      "text/html": "<pre style=\"word-wrap: normal;white-space: pre;background: #fff0;line-height: 1.1;font-family: &quot;Courier New&quot;,Courier,monospace\">global phase: 6.2823\n     ┌──────────────────┐          ┌───┐  ┌──────────────────┐           ┌───┐»\nq_0: ┤ R(1.5707,1.5712) ├──■───────┤ X ├──┤ R(12.566,4.9359) ├───■───────┤ X ├»\n     ├──────────────────┤┌─┴─┐     └─┬─┘┌─┴──────────────────┴┐┌─┴─┐     └─┬─┘»\nq_1: ┤ R(12.557,4.1887) ├┤ X ├──■────┼──┤ R(0.00013811,2.761) ├┤ X ├──■────┼──»\n     ├──────────────────┤└───┘┌─┴─┐  │  └─┬──────────────────┬┘└───┘┌─┴─┐  │  »\nq_2: ┤ R(3.1418,1.5711) ├─────┤ X ├──■────┤ R(1.5708,1.5703) ├──────┤ X ├──■──»\n     └──────────────────┘     └───┘       └──────────────────┘      └───┘     »\n«     ┌──────────────────┐          ┌───┐┌──────────────────┐          ┌───┐»\n«q_0: ┤ R(7.1503,1.5708) ├──■───────┤ X ├┤ R(6.2833,4.7003) ├──■───────┤ X ├»\n«     ├──────────────────┤┌─┴─┐     └─┬─┘├──────────────────┤┌─┴─┐     └─┬─┘»\n«q_1: ┤ R(1.0285,4.7125) ├┤ X ├──■────┼──┤ R(1.5705,4.7116) ├┤ X ├──■────┼──»\n«     ├──────────────────┤└───┘┌─┴─┐  │  ├──────────────────┤└───┘┌─┴─┐  │  »\n«q_2: ┤ R(1.5707,1.5707) ├─────┤ X ├──■──┤ R(4.7125,1.5713) ├─────┤ X ├──■──»\n«     └──────────────────┘     └───┘     └──────────────────┘     └───┘     »\n«       ┌──────────────────┐            ┌───┐┌──────────────────┐          »\n«q_0: ──┤ R(4.1703,1.5709) ├────■───────┤ X ├┤ R(6.2838,5.6333) ├──■───────»\n«       ├──────────────────┤  ┌─┴─┐     └─┬─┘├──────────────────┤┌─┴─┐     »\n«q_1: ──┤ R(2.9166,4.7123) ├──┤ X ├──■────┼──┤ R(1.5707,1.5708) ├┤ X ├──■──»\n«     ┌─┴──────────────────┴─┐└───┘┌─┴─┐  │  ├──────────────────┤└───┘┌─┴─┐»\n«q_2: ┤ R(0.00016286,4.7378) ├─────┤ X ├──■──┤ R(4.7125,4.7118) ├─────┤ X ├»\n«     └──────────────────────┘     └───┘     └──────────────────┘     └───┘»\n«     ┌───┐┌──────────────────┐\n«q_0: ┤ X ├┤ R(4.9373,4.7128) ├\n«     └─┬─┘├──────────────────┤\n«q_1: ──┼──┤ R(2.2661,1.5717) ├\n«       │  ├──────────────────┤\n«q_2: ──■──┤ R(3.1414,1.5705) ├\n«          └──────────────────┘</pre>"
     },
     "execution_count": 4,
     "metadata": {},
     "output_type": "execute_result"
    }
   ],
   "source": [
    "desc.to_qiskit().draw(style=\"mpl\")"
   ],
   "metadata": {
    "collapsed": false,
    "pycharm": {
     "name": "#%%\n"
    }
   }
  },
  {
   "cell_type": "code",
   "execution_count": 6,
   "outputs": [
    {
     "data": {
      "text/plain": "array([[ 1.,  0.,  0.,  0., -0.,  0.,  0., -0.],\n       [-0.,  1., -0.,  0.,  0., -0.,  0.,  0.],\n       [-0.,  0.,  1., -0.,  0.,  0., -0.,  0.],\n       [-0., -0.,  0.,  1., -0.,  0.,  0., -0.],\n       [-0.,  0., -0., -0., -0.,  1., -0.,  0.],\n       [ 0., -0., -0.,  0.,  1.,  0.,  0.,  0.],\n       [-0., -0., -0.,  0., -0., -0., -0.,  1.],\n       [-0., -0.,  0., -0., -0.,  0.,  1.,  0.]])"
     },
     "execution_count": 6,
     "metadata": {},
     "output_type": "execute_result"
    }
   ],
   "source": [
    "desc.matrix.round(2).real"
   ],
   "metadata": {
    "collapsed": false,
    "pycharm": {
     "name": "#%%\n"
    }
   }
  },
  {
   "cell_type": "code",
   "execution_count": null,
   "outputs": [],
   "source": [],
   "metadata": {
    "collapsed": false,
    "pycharm": {
     "name": "#%%\n"
    }
   }
  }
 ],
 "metadata": {
  "kernelspec": {
   "display_name": "Python 3",
   "language": "python",
   "name": "python3"
  },
  "language_info": {
   "codemirror_mode": {
    "name": "ipython",
    "version": 2
   },
   "file_extension": ".py",
   "mimetype": "text/x-python",
   "name": "python",
   "nbconvert_exporter": "python",
   "pygments_lexer": "ipython2",
   "version": "2.7.6"
  }
 },
 "nbformat": 4,
 "nbformat_minor": 0
}