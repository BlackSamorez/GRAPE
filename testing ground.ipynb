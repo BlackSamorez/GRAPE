{
 "cells": [
  {
   "cell_type": "code",
   "execution_count": 16,
   "outputs": [],
   "source": [
    "import numpy as np\n",
    "\n",
    "from GRAPE import *\n",
    "import matplotlib.pyplot as plt\n",
    "from qiskit import Aer, execute"
   ],
   "metadata": {
    "collapsed": false,
    "pycharm": {
     "name": "#%%\n"
    }
   }
  },
  {
   "cell_type": "code",
   "execution_count": 17,
   "outputs": [],
   "source": [
    "J = np.zeros((3, 3))\n",
    "J[0][1] = 0.1385\n",
    "J[1][2] = 0.01304\n",
    "J[0][2] = 0.00148\n",
    "\n",
    "CX = np.eye(4)\n",
    "CX[2][2] = 0\n",
    "CX[3][3] = 0\n",
    "CX[2][3] = 1\n",
    "CX[3][2] = 1\n",
    "\n",
    "SWAP = np.eye(4)\n",
    "SWAP[1][1] = 0\n",
    "SWAP[2][2] = 0\n",
    "SWAP[1][2] = 1\n",
    "SWAP[2][1] = 1\n",
    "\n",
    "TOFFOLI = np.eye(8)\n",
    "TOFFOLI[6][6] = 0\n",
    "TOFFOLI[7][7] = 0\n",
    "TOFFOLI[6][7] = 1\n",
    "TOFFOLI[7][6] = 1"
   ],
   "metadata": {
    "collapsed": false,
    "pycharm": {
     "name": "#%%\n"
    }
   }
  },
  {
   "cell_type": "code",
   "execution_count": 18,
   "outputs": [
    {
     "name": "stderr",
     "output_type": "stream",
     "text": [
      "C:\\Users\\Panfe\\PycharmProjects\\GRAPE\\GRAPE.py:94: ComplexWarning: Casting complex values to real discards the imaginary part\n",
      "  evolution = evolution @ (math.cos(math.pi / 2 * self.J[i][j] * self.time) * np.eye(2 ** self.size,\n",
      "C:\\Users\\Panfe\\PycharmProjects\\GRAPE\\GRAPE.py:95: ComplexWarning: Casting complex values to real discards the imaginary part\n",
      "  dtype=complex) - 1j * math.sin(\n",
      "C:\\Users\\Panfe\\PycharmProjects\\GRAPE\\GRAPE.py:21: ComplexWarning: Casting complex values to real discards the imaginary part\n",
      "  matrix = math.cos(self.params[0] / 2) * self._id - 1j * math.sin(self.params[0] / 2) * (\n",
      "C:\\Users\\Panfe\\PycharmProjects\\GRAPE\\GRAPE.py:22: ComplexWarning: Casting complex values to real discards the imaginary part\n",
      "  math.cos(self.params[1]) * self._x + math.sin(self.params[1]) * self._y)\n"
     ]
    },
    {
     "name": "stdout",
     "output_type": "stream",
     "text": [
      "distance: 3.16769 ; time: 64.58\n"
     ]
    },
    {
     "name": "stderr",
     "output_type": "stream",
     "text": [
      "C:\\Users\\Panfe\\PycharmProjects\\GRAPE\\GRAPE.py:94: ComplexWarning: Casting complex values to real discards the imaginary part\n",
      "  evolution = evolution @ (math.cos(math.pi / 2 * self.J[i][j] * self.time) * np.eye(2 ** self.size,\n",
      "C:\\Users\\Panfe\\PycharmProjects\\GRAPE\\GRAPE.py:95: ComplexWarning: Casting complex values to real discards the imaginary part\n",
      "  dtype=complex) - 1j * math.sin(\n"
     ]
    },
    {
     "data": {
      "text/plain": "<Figure size 432x288 with 1 Axes>",
      "image/png": "[encoded data removed]"
     },
     "metadata": {
      "needs_background": "light"
     },
     "output_type": "display_data"
    }
   ],
   "source": [
    "n = 1\n",
    "m = 10000\n",
    "k = 4\n",
    "\n",
    "descents = [GradientDescend(TOFFOLI, k) for _ in range(n)]\n",
    "\n",
    "for descent in descents:\n",
    "    descent.noise = 0.05\n",
    "    descent.randomize_params()\n",
    "    descent.set_j(J)\n",
    "\n",
    "losses = [descent.descend(steps=m, track_distance=True) for descent in descents]\n",
    "\n",
    "for loss in losses:\n",
    "    plt.plot(np.real(loss))\n",
    "for i in range(n):\n",
    "    print(\"distance:\", descents[i].distance.round(6).real, \"; time:\", descents[i].time.round(2))"
   ],
   "metadata": {
    "collapsed": false,
    "pycharm": {
     "name": "#%%\n"
    }
   }
  },
  {
   "cell_type": "code",
   "execution_count": 19,
   "outputs": [
    {
     "name": "stderr",
     "output_type": "stream",
     "text": [
      "C:\\Users\\Panfe\\PycharmProjects\\GRAPE\\GRAPE.py:112: ComplexWarning: Casting complex values to real discards the imaginary part\n",
      "  circuit.hamiltonian(self.hamiltonian, float(self.time), circuit.qubits)\n"
     ]
    },
    {
     "name": "stdout",
     "output_type": "stream",
     "text": [
      "0 (14.563342234462697+0j) 0 (13.75815456654638+0j) \n",
      "\n",
      "[[ 0.89-0.35j -0.04+0.02j -0.04+0.03j  0.23-0.1j  -0.05+0.02j  0.01-0.02j\n",
      "  -0.01+0.04j  0.1 +0.03j]\n",
      " [ 0.03+0.03j  0.95-0.19j  0.12-0.09j  0.06-0.13j  0.03-0.04j  0.01-0.01j\n",
      "   0.08+0.1j  -0.  +0.06j]\n",
      " [-0.03+0.2j  -0.17-0.05j  0.53+0.31j  0.15-0.7j   0.01-0.1j   0.01-0.07j\n",
      "   0.01+0.11j -0.03-0.09j]\n",
      " [-0.12-0.1j  -0.12-0.03j  0.48-0.57j  0.56+0.25j  0.04-0.06j  0.01-0.16j\n",
      "  -0.01-0.06j -0.01+0.08j]\n",
      " [ 0.07+0.02j -0.03-0.01j -0.02-0.07j -0.06-0.08j  0.97+0.13j  0.02+0.07j\n",
      "  -0.02-0.08j -0.01+0.j  ]\n",
      " [-0.01+0.01j -0.  +0.01j -0.03-0.13j -0.  -0.1j  -0.07+0.05j  0.94+0.22j\n",
      "  -0.08-0.11j  0.05-0.09j]\n",
      " [-0.04+0.06j -0.03+0.01j  0.04-0.08j -0.06+0.11j  0.05+0.01j -0.  -0.01j\n",
      "   0.06+0.52j  0.75-0.36j]\n",
      " [-0.05+0.01j -0.07+0.1j  -0.06+0.08j  0.05-0.03j  0.03-0.04j  0.14-0.1j\n",
      "   0.82-0.01j  0.19+0.48j]] \n",
      " [[ 0.89-0.35j -0.04+0.02j -0.04+0.03j  0.23-0.1j  -0.05+0.02j  0.01-0.02j\n",
      "  -0.01+0.04j  0.1 +0.03j]\n",
      " [ 0.03+0.03j  0.95-0.19j  0.12-0.09j  0.06-0.13j  0.03-0.04j  0.01-0.01j\n",
      "   0.08+0.1j  -0.  +0.06j]\n",
      " [-0.03+0.2j  -0.17-0.05j  0.53+0.31j  0.15-0.7j   0.01-0.1j   0.01-0.07j\n",
      "   0.01+0.11j -0.03-0.09j]\n",
      " [-0.12-0.1j  -0.12-0.03j  0.48-0.57j  0.56+0.25j  0.04-0.06j  0.01-0.16j\n",
      "  -0.01-0.06j -0.01+0.08j]\n",
      " [ 0.07+0.02j -0.03-0.01j -0.02-0.07j -0.06-0.08j  0.97+0.13j  0.02+0.07j\n",
      "  -0.02-0.08j -0.01+0.j  ]\n",
      " [-0.01+0.01j -0.  +0.01j -0.03-0.13j -0.  -0.1j  -0.07+0.05j  0.94+0.22j\n",
      "  -0.08-0.11j  0.05-0.09j]\n",
      " [-0.04+0.06j -0.03+0.01j  0.04-0.08j -0.06+0.11j  0.05+0.01j -0.  -0.01j\n",
      "   0.06+0.52j  0.75-0.36j]\n",
      " [-0.05+0.01j -0.07+0.1j  -0.06+0.08j  0.05-0.03j  0.03-0.04j  0.14-0.1j\n",
      "   0.82-0.01j  0.19+0.48j]]\n"
     ]
    },
    {
     "data": {
      "text/plain": "global phase: 3.5665\n     ┌──────────────────┐┌──────────────┐┌──────────────────┐┌──────────────┐»\nq_0: ┤ R(4.6488,5.0573) ├┤0             ├┤ R(2.4204,2.7813) ├┤0             ├»\n     ├──────────────────┤│              │├──────────────────┤│              │»\nq_1: ┤ R(7.5902,2.2121) ├┤1 Hamiltonian ├┤ R(3.9266,1.2564) ├┤1 Hamiltonian ├»\n     ├──────────────────┤│              │├──────────────────┤│              │»\nq_2: ┤ R(6.1188,4.0289) ├┤2             ├┤ R(10.213,3.4595) ├┤2             ├»\n     └──────────────────┘└──────────────┘└──────────────────┘└──────────────┘»\n«     ┌───────────────────┐┌──────────────┐┌─────────────────┐ ┌──────────────┐»\n«q_0: ┤ R(0.88532,2.4793) ├┤0             ├┤ R(8.3819,2.121) ├─┤0             ├»\n«     └┬─────────────────┬┘│              │├─────────────────┴┐│              │»\n«q_1: ─┤ R(10.432,6.089) ├─┤1 Hamiltonian ├┤ R(9.6171,4.1394) ├┤1 Hamiltonian ├»\n«      ├─────────────────┴┐│              │├──────────────────┤│              │»\n«q_2: ─┤ R(8.1423,3.8553) ├┤2             ├┤ R(0.5287,3.7132) ├┤2             ├»\n«      └──────────────────┘└──────────────┘└──────────────────┘└──────────────┘»\n«      ┌──────────────────┐\n«q_0: ─┤ R(11.894,1.1454) ├\n«      ├──────────────────┤\n«q_1: ─┤ R(11.516,6.0695) ├\n«     ┌┴──────────────────┤\n«q_2: ┤ R(5.6389,0.54792) ├\n«     └───────────────────┘",
      "text/html": "<pre style=\"word-wrap: normal;white-space: pre;background: #fff0;line-height: 1.1;font-family: &quot;Courier New&quot;,Courier,monospace\">global phase: 3.5665\n     ┌──────────────────┐┌──────────────┐┌──────────────────┐┌──────────────┐»\nq_0: ┤ R(4.6488,5.0573) ├┤0             ├┤ R(2.4204,2.7813) ├┤0             ├»\n     ├──────────────────┤│              │├──────────────────┤│              │»\nq_1: ┤ R(7.5902,2.2121) ├┤1 Hamiltonian ├┤ R(3.9266,1.2564) ├┤1 Hamiltonian ├»\n     ├──────────────────┤│              │├──────────────────┤│              │»\nq_2: ┤ R(6.1188,4.0289) ├┤2             ├┤ R(10.213,3.4595) ├┤2             ├»\n     └──────────────────┘└──────────────┘└──────────────────┘└──────────────┘»\n«     ┌───────────────────┐┌──────────────┐┌─────────────────┐ ┌──────────────┐»\n«q_0: ┤ R(0.88532,2.4793) ├┤0             ├┤ R(8.3819,2.121) ├─┤0             ├»\n«     └┬─────────────────┬┘│              │├─────────────────┴┐│              │»\n«q_1: ─┤ R(10.432,6.089) ├─┤1 Hamiltonian ├┤ R(9.6171,4.1394) ├┤1 Hamiltonian ├»\n«      ├─────────────────┴┐│              │├──────────────────┤│              │»\n«q_2: ─┤ R(8.1423,3.8553) ├┤2             ├┤ R(0.5287,3.7132) ├┤2             ├»\n«      └──────────────────┘└──────────────┘└──────────────────┘└──────────────┘»\n«      ┌──────────────────┐\n«q_0: ─┤ R(11.894,1.1454) ├\n«      ├──────────────────┤\n«q_1: ─┤ R(11.516,6.0695) ├\n«     ┌┴──────────────────┤\n«q_2: ┤ R(5.6389,0.54792) ├\n«     └───────────────────┘</pre>"
     },
     "execution_count": 19,
     "metadata": {},
     "output_type": "execute_result"
    }
   ],
   "source": [
    "for i in range(n):\n",
    "    for j in range(k):\n",
    "        print(descents[i].gates[j].time, end=\" \")\n",
    "    print(\"\\n\")\n",
    "\n",
    "circuit = descents[0].to_qiskit()\n",
    "\n",
    "backend = Aer.get_backend('unitary_simulator')\n",
    "job = execute(circuit, backend)\n",
    "result = job.result()\n",
    "matrix = result.get_unitary(circuit, decimals=2)\n",
    "print(descents[0].matrix.round(2), \"\\n\" ,matrix.round(2))\n",
    "\n",
    "circuit.draw()"
   ],
   "metadata": {
    "collapsed": false,
    "pycharm": {
     "name": "#%%\n"
    }
   }
  },
  {
   "cell_type": "code",
   "execution_count": 20,
   "outputs": [
    {
     "name": "stdout",
     "output_type": "stream",
     "text": [
      "0 (14.563342234462697+0j) 0 (13.75815456654638+0j) 0 (25.48961019704185+0j) 0 (10.766481082465871+0j) 0 \n",
      "\n",
      "0 (14.563342234462697+0j) 0 (13.75815456654638+0j) 0 (25.48961019704185+0j) 0 (10.766481082465871+0j) 0 \n",
      "\n",
      "(3.1676896753637296+0j)\n",
      "[[ 0.89-0.35j -0.04+0.02j -0.04+0.03j  0.23-0.1j  -0.05+0.02j  0.01-0.02j\n",
      "  -0.01+0.04j  0.1 +0.03j]\n",
      " [ 0.03+0.03j  0.95-0.19j  0.12-0.09j  0.06-0.13j  0.03-0.04j  0.01-0.01j\n",
      "   0.08+0.1j  -0.  +0.06j]\n",
      " [-0.03+0.2j  -0.17-0.05j  0.53+0.31j  0.15-0.7j   0.01-0.1j   0.01-0.07j\n",
      "   0.01+0.11j -0.03-0.09j]\n",
      " [-0.12-0.1j  -0.12-0.03j  0.48-0.57j  0.56+0.25j  0.04-0.06j  0.01-0.16j\n",
      "  -0.01-0.06j -0.01+0.08j]\n",
      " [ 0.07+0.02j -0.03-0.01j -0.02-0.07j -0.06-0.08j  0.97+0.13j  0.02+0.07j\n",
      "  -0.02-0.08j -0.01+0.j  ]\n",
      " [-0.01+0.01j -0.  +0.01j -0.03-0.13j -0.  -0.1j  -0.07+0.05j  0.94+0.22j\n",
      "  -0.08-0.11j  0.05-0.09j]\n",
      " [-0.04+0.06j -0.03+0.01j  0.04-0.08j -0.06+0.11j  0.05+0.01j -0.  -0.01j\n",
      "   0.06+0.52j  0.75-0.36j]\n",
      " [-0.05+0.01j -0.07+0.1j  -0.06+0.08j  0.05-0.03j  0.03-0.04j  0.14-0.1j\n",
      "   0.82-0.01j  0.19+0.48j]]\n"
     ]
    }
   ],
   "source": [
    "for gate in descents[0].gates:\n",
    "    print(gate.time, end=\" \")\n",
    "print(\"\\n\")\n",
    "\n",
    "\n",
    "descents[0].make_times_positive()\n",
    "\n",
    "for gate in descents[0].gates:\n",
    "    print(gate.time, end=\" \")\n",
    "print(\"\\n\")\n",
    "\n",
    "print(descents[0].distance)\n",
    "print(descents[0].matrix.round(2))\n"
   ],
   "metadata": {
    "collapsed": false,
    "pycharm": {
     "name": "#%%\n"
    }
   }
  },
  {
   "cell_type": "code",
   "execution_count": 20,
   "outputs": [],
   "source": [],
   "metadata": {
    "collapsed": false,
    "pycharm": {
     "name": "#%%\n"
    }
   }
  }
 ],
 "metadata": {
  "kernelspec": {
   "display_name": "Python 3",
   "language": "python",
   "name": "python3"
  },
  "language_info": {
   "codemirror_mode": {
    "name": "ipython",
    "version": 2
   },
   "file_extension": ".py",
   "mimetype": "text/x-python",
   "name": "python",
   "nbconvert_exporter": "python",
   "pygments_lexer": "ipython2",
   "version": "2.7.6"
  }
 },
 "nbformat": 4,
 "nbformat_minor": 0
}