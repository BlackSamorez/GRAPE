{
 "cells": [
  {
   "cell_type": "code",
   "execution_count": 100,
   "outputs": [],
   "source": [
    "import numpy as np\n",
    "import math\n",
    "import random\n",
    "import matplotlib.pyplot as plt\n",
    "import qiskit\n",
    "from qiskit import QuantumCircuit, Aer\n",
    "\n",
    "class BasicGate: # 1-qubit gate\n",
    "  def __init__(self, params=None):\n",
    "    if params is None:\n",
    "      params = [0, 0]\n",
    "    self.params = params\n",
    "    # Pauli matrices\n",
    "    self.I = np.eye(2, dtype=complex)\n",
    "    self.X = np.asarray([[0, 1], [1, 0]], dtype=complex)\n",
    "    self.Y = np.asarray([[0, -1j], [1j, 0]], dtype=complex)\n",
    "\n",
    "  @property\n",
    "  def matrix(self): # straightforward matrix representation\n",
    "    matrix = math.cos(self.params[0] / 2) * self.I - 1j * math.sin(self.params[0]/2) * (math.cos(self.params[1]) * self.X + math.sin(self.params[1]) * self.Y)\n",
    "\n",
    "    return matrix\n",
    "\n",
    "  def randomize_params(self):\n",
    "    self.params = [2 * math.pi * random.random(), 2 * math.pi * random.random()]\n",
    "\n",
    "  def correct_params(self, correction): # update parameters based on passed corrections\n",
    "    self.params[0] += correction[0]\n",
    "    self.params[1] += correction[1]\n",
    "\n",
    "\n",
    "class EvolutionStep: # a combination of 1-qubit operations followed by evolution\n",
    "  def __init__(self, size = 2, params=None):\n",
    "    if params is None:\n",
    "      params = []\n",
    "    self.size = size # number of qubits\n",
    "    self.time = 0.2 # evolution time\n",
    "\n",
    "    if len(params) != self.size:\n",
    "      params += [[0, 0] for _ in range(self.size - len(params))]\n",
    "\n",
    "    self.basicGates = [BasicGate(param) for param in params] # 1-qubit gates\n",
    "\n",
    "    self.J = np.zeros((2 ** self.size, 2 ** self.size), dtype=complex) # interaction matrix (NOT FINISHED)\n",
    "    for i in range(self.size - 1):\n",
    "      self.J[i + 1][i] = 1 # костыль\n",
    "\n",
    "    self.Z = np.asarray([[1, 0], [0, -1]], dtype=complex)\n",
    "    self.sigmas = [np.ones(1) for _ in range(self.size)]\n",
    "    for i in range(self.size):\n",
    "      for j in range(self.size):\n",
    "        if i == j:\n",
    "          self.sigmas[j] = np.kron(self.sigmas[j], self.Z)\n",
    "        else:\n",
    "          self.sigmas[j] = np.kron(self.sigmas[j], np.eye(2))\n",
    "\n",
    "  @property\n",
    "  def hamiltonian(self):\n",
    "    hamiltonian = np.zeros((2 ** self.size, 2 ** self.size), dtype=complex)\n",
    "    for i in range(self.size):\n",
    "      for j in range(i):\n",
    "        hamiltonian += math.pi / 2 * self.J[i][j] * self.sigmas[i] @ self.sigmas[j]\n",
    "    return hamiltonian\n",
    "\n",
    "  @property\n",
    "  def evolution(self): # evolution matrix\n",
    "    evolution = np.eye(2 ** self.size, dtype=complex)\n",
    "    for i in range(self.size):\n",
    "      for j in range(i):\n",
    "        evolution = evolution @ (math.cos(math.pi /2 * self.J[i][j] * self.time) * np.eye(2 ** self.size, dtype=complex) - 1j * math.sin(math.pi /2 * self.J[i][j] * self.time) * self.sigmas[i] @ self.sigmas[j])\n",
    "    return evolution # NOT FINISHED\n",
    "\n",
    "  @property\n",
    "  def matrix(self): # unitary of this evolution step\n",
    "    matrix = np.ones(1, dtype=complex)\n",
    "\n",
    "    for i in range(self.size):\n",
    "      matrix = np.kron(self.basicGates[i].matrix, matrix) # 1-qubit \"kick\"\n",
    "    matrix = self.evolution @ matrix # evolution\n",
    "\n",
    "    return matrix\n",
    "\n",
    "  def randomize_params(self):\n",
    "    for basicGate in self.basicGates:\n",
    "      basicGate.randomize_params()\n",
    "\n",
    "  def correct_params(self, correction, evolution_correction): # update parameters based on passed corrections\n",
    "    for i in range(self.size):\n",
    "      self.basicGates[i].correct_params(correction[i])\n",
    "    self.time += evolution_correction\n",
    "\n",
    "  def to_qiskit(self):\n",
    "    circuit = QuantumCircuit(self.size)\n",
    "\n",
    "    for i in range(self.size):\n",
    "      circuit.r(self.basicGates[i].params[0], self.basicGates[i].params[1], circuit.qubits[i])\n",
    "    circuit.hamiltonian(self.hamiltonian, float(self.time), circuit.qubits)\n",
    "\n",
    "    return circuit\n",
    "\n",
    "\n",
    "class Implementation: # class to approximate abstract unitary using a series of evolutionStep\n",
    "  def __init__(self, target, n):\n",
    "    self.target = target # unitary to approximate\n",
    "    self.noise = 0.05 # noise levels (see self.stupidCalculateGradient)\n",
    "\n",
    "    self.n = n # number of evolution steps\n",
    "    self.size = int(math.log2(self.target.size) / 2) # number of qubits\n",
    "\n",
    "    self.phase = 0 # global phase\n",
    "    self.gates = [EvolutionStep(size=self.size) for _ in range(self.n)] # evolution steps\n",
    "\n",
    "    self.evolutionGradient = [0] * self.n # -gradient of cost function by evolution times\n",
    "    self.phaseGradient = 0 # -gradient of cost function by global phase\n",
    "    self.gradient = [[[0, 0] for _ in range(self.size)] for _ in range(self.n)] # -gradient of cost function by 1-qubit operations parameters\n",
    "    self.stepSize = 0.01 # parameter update by gradient coefficient for 1-qubit operations parameters and evolution times\n",
    "    self.phaseStepSize = 0.002 # parameter update by gradient coefficient for global phase (diverges when trying to lower)\n",
    "\n",
    "  @property\n",
    "  def time(self): # total approximation time\n",
    "    time = 0\n",
    "    for gate in self.gates:\n",
    "      time += gate.time\n",
    "    return time.real\n",
    "\n",
    "  @property\n",
    "  def target_d(self): # target dagger\n",
    "    return self.target.conjugate().transpose()\n",
    "\n",
    "  @property\n",
    "  def matrix(self): # approximation matrix\n",
    "    matrix = np.eye(2**self.size, dtype=complex)\n",
    "\n",
    "    for i in range(self.n):\n",
    "      matrix = self.gates[i].matrix @ matrix\n",
    "\n",
    "    return matrix * math.e ** (1j * self.phase)\n",
    "\n",
    "  def write_params(self, params = None): # writes params for 1-qubit operations\n",
    "    if params:\n",
    "      for i in range(self.n):\n",
    "        self.gates[i].params = params[i]\n",
    "    else:\n",
    "      for i in range(self.n):\n",
    "        self.gates[i].randomize_params() # randomizes if no input\n",
    "\n",
    "  def save_params(self, filename):\n",
    "    #self.gates[0].basicGates[0].params[0], self.gates[0].basicGates[0].params[1]; ... ; self.gates[0].basicGates[self.size - 1].params[0]; self.gates[0].basicGates[self.size - 1].params[1]; self.gates[0].time\n",
    "    #...\n",
    "    #self.gates[self.n - 1].basicGates[0].params[0], self.gates[0].basicGates[0].params[1]; ... ; self.gates[0].basicGates[self.size - 1].params[0]; self.gates[self.n - 1].basicGates[self.size - 1].params[1]; self.gates[self.n - 1].time\n",
    "    #self.phase; ... ; self.phase\n",
    "\n",
    "    file = open(filename, \"w\")\n",
    "    for i in range(self.n):\n",
    "      for j in range(self.size):\n",
    "        file.write(f\"{self.gates[i].basicGates[j].params[0]}; {self.gates[i].basicGates[j].params[1]}; \")\n",
    "      file.write(f\"{self.gates[i].time}\\n\")\n",
    "    for i in range(2 * self.size + 1):\n",
    "      file.write(f\"{self.phase}\")\n",
    "      if i != 2 * self.size:\n",
    "        file.write(\"; \")\n",
    "    file.write(\"\\n\")\n",
    "\n",
    "  def read_params(self, filename):\n",
    "    file = open(filename, \"r\")\n",
    "    data = np.genfromtxt(filename, delimiter=\";\")\n",
    "    for i in range(self.n):\n",
    "      for j in range(self.size):\n",
    "        self.gates[i].basicGates[j].params[0] = data[i][2 * j]\n",
    "        self.gates[i].basicGates[j].params[1] = data[i][2 * j + 1]\n",
    "      self.gates[i].time = data[i][2 * self.size]\n",
    "    self.phase = data[self.n][0]\n",
    "\n",
    "  def calculate_gradient(self): # grad f = (f(x + gradstep) - f(x)) / gradstep\n",
    "    dist1 = self.distance\n",
    "\n",
    "    gradstep = 0.001\n",
    "\n",
    "    # 1-qubit operations parameters gradient\n",
    "    for i in range(self.n):\n",
    "      for j in range(self.size):\n",
    "        for k in [0, 1]:\n",
    "          self.gates[i].basicGates[j].params[k] += gradstep\n",
    "          dist2 = self.distance\n",
    "          self.gates[i].basicGates[j].params[k] -= gradstep\n",
    "\n",
    "          self.gradient[i][j][k] = (dist1 - dist2) / gradstep * self.stepSize # minus for descent\n",
    "\n",
    "      # evolution times gradient\n",
    "      self.gates[i].time += gradstep\n",
    "      dist2 = self.distance\n",
    "      self.gates[i].time -= gradstep\n",
    "\n",
    "      self.evolutionGradient[i] = (dist1 - dist2) / gradstep * self.stepSize # minus for descent\n",
    "\n",
    "    # global phase gradient\n",
    "    self.phase += gradstep\n",
    "    dist2 = self.distance\n",
    "    self.phase -= gradstep\n",
    "\n",
    "    self.phaseGradient += (dist1 - dist2) / gradstep * self.phaseStepSize # minus for descent\n",
    "\n",
    "    # make every step + random(-1, 1) * self.random\n",
    "    if self.noise:\n",
    "      for i in range(self.n):\n",
    "        for j in range(self.size):\n",
    "          for k in [0, 1]:\n",
    "           self.gradient[i][j][k] += self.noise * 2 *(random.random() - 1) * self.gradient[i][j][k]\n",
    "\n",
    "  def correct_params(self): # update all parameters based on gradients\n",
    "    for i in range(self.n):\n",
    "      self.gates[i].correct_params(self.gradient[i], self.evolutionGradient[i])\n",
    "    self.phase = self.phaseGradient\n",
    "\n",
    "  @property\n",
    "  def distance(self): # Frobenius norm\n",
    "    distance = ((self.matrix - self.target) @ (self.matrix - self.target).conjugate().transpose()).trace()\n",
    "\n",
    "    return distance\n",
    "\n",
    "  def descend(self, steps=1000, track_distance=False): # perform gradient descent\n",
    "    distances = [] # distances to track\n",
    "\n",
    "    for i in range(steps):\n",
    "      distances += [self.distance]\n",
    "\n",
    "      self.calculate_gradient() # calculate gradient\n",
    "      self.correct_params() # update parameters\n",
    "\n",
    "    #most parameters are cyclic - make them in (0, max)\n",
    "    #print(\"prior\", self.distance)\n",
    "    for gate in self.gates:\n",
    "      for basicGate in gate.basicGates:\n",
    "        basicGate.params[0] = basicGate.params[0].real % (4 * math.pi)\n",
    "        basicGate.params[1] = basicGate.params[1].real % (2 * math.pi)\n",
    "      # gate.time = gate.time.real % (4 * math.pi)\n",
    "    self.phase = self.phase.real % (2 * math.pi)\n",
    "    #print(\"after\", self.distance)\n",
    "\n",
    "    if track_distance:\n",
    "      return distances\n",
    "\n",
    "  def to_qiskit(self):\n",
    "    circuit = QuantumCircuit(self.size, global_phase=self.phase)\n",
    "    for i in range(self.n):\n",
    "      circuit += self.gates[i].to_qiskit()\n",
    "    return circuit\n"
   ],
   "metadata": {
    "collapsed": false,
    "pycharm": {
     "name": "#%%\n"
    }
   }
  },
  {
   "cell_type": "code",
   "execution_count": 101,
   "outputs": [],
   "source": [
    "CX = np.eye(4)\n",
    "CX[2][2] = 0\n",
    "CX[3][3] = 0\n",
    "CX[2][3] = 1\n",
    "CX[3][2] = 1\n",
    "\n",
    "SWAP = np.eye(4)\n",
    "SWAP[1][1] = 0\n",
    "SWAP[2][2] = 0\n",
    "SWAP[1][2] = 1\n",
    "SWAP[2][1] = 1\n",
    "\n",
    "TOFFOLI = np.eye(8)\n",
    "TOFFOLI[6][6] = 0\n",
    "TOFFOLI[7][7] = 0\n",
    "TOFFOLI[6][7] = 1\n",
    "TOFFOLI[7][6] = 1"
   ],
   "metadata": {
    "collapsed": false,
    "pycharm": {
     "name": "#%%\n"
    }
   }
  },
  {
   "cell_type": "code",
   "execution_count": 102,
   "outputs": [
    {
     "name": "stderr",
     "output_type": "stream",
     "text": [
      "<ipython-input-100-7edbb330539a>:71: ComplexWarning: Casting complex values to real discards the imaginary part\n",
      "  evolution = evolution @ (math.cos(math.pi /2 * self.J[i][j] * self.time) * np.eye(2 ** self.size, dtype=complex) - 1j * math.sin(math.pi /2 * self.J[i][j] * self.time) * self.sigmas[i] @ self.sigmas[j])\n",
      "<ipython-input-100-7edbb330539a>:21: ComplexWarning: Casting complex values to real discards the imaginary part\n",
      "  matrix = math.cos(self.params[0] / 2) * self.I - 1j * math.sin(self.params[0]/2) * (math.cos(self.params[1]) * self.X + math.sin(self.params[1]) * self.Y)\n"
     ]
    }
   ],
   "source": [
    "imp = Implementation(CX, 4)\n",
    "\n",
    "imp.write_params()\n",
    "imp.descend(500)\n"
   ],
   "metadata": {
    "collapsed": false,
    "pycharm": {
     "name": "#%%\n"
    }
   }
  },
  {
   "cell_type": "code",
   "execution_count": 103,
   "outputs": [
    {
     "name": "stderr",
     "output_type": "stream",
     "text": [
      "<ipython-input-100-7edbb330539a>:98: ComplexWarning: Casting complex values to real discards the imaginary part\n",
      "  circuit.hamiltonian(self.hamiltonian, float(self.time), circuit.qubits)\n"
     ]
    }
   ],
   "source": [
    "circuit = imp.to_qiskit()"
   ],
   "metadata": {
    "collapsed": false,
    "pycharm": {
     "name": "#%%\n"
    }
   }
  },
  {
   "cell_type": "code",
   "execution_count": 104,
   "outputs": [
    {
     "data": {
      "text/plain": "global phase: 0.7844\n     ┌───────────────────┐┌──────────────┐┌───────────────────┐┌──────────────┐»\nq_0: ┤ R(4.7121,0.17161) ├┤0             ├┤ R(1.504,0.051468) ├┤0             ├»\n     └┬──────────────────┤│  Hamiltonian │└┬──────────────────┤│  Hamiltonian │»\nq_1: ─┤ R(3.1416,2.8063) ├┤1             ├─┤ R(4.8549,5.8516) ├┤1             ├»\n      └──────────────────┘└──────────────┘ └──────────────────┘└──────────────┘»\n«     ┌──────────────────┐┌──────────────┐┌──────────────────┐┌──────────────┐\n«q_0: ┤ R(3.1755,5.5743) ├┤0             ├┤ R(4.6158,3.2328) ├┤0             ├\n«     ├──────────────────┤│  Hamiltonian │├──────────────────┤│  Hamiltonian │\n«q_1: ┤ R(2.2675,0.7679) ├┤1             ├┤ R(1.1952,5.3497) ├┤1             ├\n«     └──────────────────┘└──────────────┘└──────────────────┘└──────────────┘",
      "text/html": "<pre style=\"word-wrap: normal;white-space: pre;background: #fff0;line-height: 1.1;font-family: &quot;Courier New&quot;,Courier,monospace\">global phase: 0.7844\n     ┌───────────────────┐┌──────────────┐┌───────────────────┐┌──────────────┐»\nq_0: ┤ R(4.7121,0.17161) ├┤0             ├┤ R(1.504,0.051468) ├┤0             ├»\n     └┬──────────────────┤│  Hamiltonian │└┬──────────────────┤│  Hamiltonian │»\nq_1: ─┤ R(3.1416,2.8063) ├┤1             ├─┤ R(4.8549,5.8516) ├┤1             ├»\n      └──────────────────┘└──────────────┘ └──────────────────┘└──────────────┘»\n«     ┌──────────────────┐┌──────────────┐┌──────────────────┐┌──────────────┐\n«q_0: ┤ R(3.1755,5.5743) ├┤0             ├┤ R(4.6158,3.2328) ├┤0             ├\n«     ├──────────────────┤│  Hamiltonian │├──────────────────┤│  Hamiltonian │\n«q_1: ┤ R(2.2675,0.7679) ├┤1             ├┤ R(1.1952,5.3497) ├┤1             ├\n«     └──────────────────┘└──────────────┘└──────────────────┘└──────────────┘</pre>"
     },
     "execution_count": 104,
     "metadata": {},
     "output_type": "execute_result"
    }
   ],
   "source": [
    "circuit.draw()"
   ],
   "metadata": {
    "collapsed": false,
    "pycharm": {
     "name": "#%%\n"
    }
   }
  },
  {
   "cell_type": "code",
   "execution_count": 106,
   "outputs": [
    {
     "name": "stdout",
     "output_type": "stream",
     "text": [
      "[[ 1.  0.  0.  0.]\n",
      " [-0.  1.  0. -0.]\n",
      " [-0.  0.  0.  1.]\n",
      " [-0. -0.  1. -0.]] [[ 1.  0.  0.  0.]\n",
      " [-0.  1.  0. -0.]\n",
      " [-0.  0.  0.  1.]\n",
      " [-0. -0.  1. -0.]]\n"
     ]
    },
    {
     "name": "stderr",
     "output_type": "stream",
     "text": [
      "<ipython-input-100-7edbb330539a>:71: ComplexWarning: Casting complex values to real discards the imaginary part\n",
      "  evolution = evolution @ (math.cos(math.pi /2 * self.J[i][j] * self.time) * np.eye(2 ** self.size, dtype=complex) - 1j * math.sin(math.pi /2 * self.J[i][j] * self.time) * self.sigmas[i] @ self.sigmas[j])\n"
     ]
    }
   ],
   "source": [
    "backend = Aer.get_backend('unitary_simulator')\n",
    "job = qiskit.execute(circuit, backend)\n",
    "result = job.result()\n",
    "matrix = result.get_unitary(circuit, decimals=2)\n",
    "print(imp.matrix.real.round(1), matrix.real.round(1))"
   ],
   "metadata": {
    "collapsed": false,
    "pycharm": {
     "name": "#%%\n"
    }
   }
  },
  {
   "cell_type": "code",
   "execution_count": 99,
   "outputs": [],
   "source": [
    "imp.save_params(\"temp\")"
   ],
   "metadata": {
    "collapsed": false,
    "pycharm": {
     "name": "#%%\n"
    }
   }
  },
  {
   "cell_type": "code",
   "execution_count": 88,
   "outputs": [],
   "source": [
    "\n"
   ],
   "metadata": {
    "collapsed": false,
    "pycharm": {
     "name": "#%%\n"
    }
   }
  }
 ],
 "metadata": {
  "kernelspec": {
   "display_name": "Python 3",
   "language": "python",
   "name": "python3"
  },
  "language_info": {
   "codemirror_mode": {
    "name": "ipython",
    "version": 2
   },
   "file_extension": ".py",
   "mimetype": "text/x-python",
   "name": "python",
   "nbconvert_exporter": "python",
   "pygments_lexer": "ipython2",
   "version": "2.7.6"
  }
 },
 "nbformat": 4,
 "nbformat_minor": 0
}