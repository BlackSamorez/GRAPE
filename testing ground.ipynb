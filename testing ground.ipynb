{
 "cells": [
  {
   "cell_type": "code",
   "execution_count": 1,
   "outputs": [],
   "source": [
    "import numpy as np\n",
    "\n",
    "from GRAPE import *\n",
    "import matplotlib.pyplot as plt\n",
    "from qiskit import Aer, execute"
   ],
   "metadata": {
    "collapsed": false,
    "pycharm": {
     "name": "#%%\n"
    }
   }
  },
  {
   "cell_type": "code",
   "execution_count": 2,
   "outputs": [],
   "source": [
    "J = np.zeros((3, 3))\n",
    "J[0][1] = 0.1385\n",
    "J[1][2] = 0.01304\n",
    "J[0][2] = 0.00148\n",
    "\n",
    "CX = np.eye(4)\n",
    "CX[2][2] = 0\n",
    "CX[3][3] = 0\n",
    "CX[2][3] = 1\n",
    "CX[3][2] = 1\n",
    "\n",
    "SWAP = np.eye(4)\n",
    "SWAP[1][1] = 0\n",
    "SWAP[2][2] = 0\n",
    "SWAP[1][2] = 1\n",
    "SWAP[2][1] = 1\n",
    "\n",
    "TOFFOLI = np.eye(8)\n",
    "TOFFOLI[6][6] = 0\n",
    "TOFFOLI[7][7] = 0\n",
    "TOFFOLI[6][7] = 1\n",
    "TOFFOLI[7][6] = 1"
   ],
   "metadata": {
    "collapsed": false,
    "pycharm": {
     "name": "#%%\n"
    }
   }
  },
  {
   "cell_type": "code",
   "execution_count": 3,
   "outputs": [
    {
     "name": "stderr",
     "output_type": "stream",
     "text": [
      "C:\\Users\\Panfe\\PycharmProjects\\GRAPE\\GRAPE.py:75: ComplexWarning: Casting complex values to real discards the imaginary part\n",
      "  evolution = evolution @ (math.cos(math.pi / 2 * self.J[i][j] * self.time) * np.eye(2 ** self.size,\n",
      "C:\\Users\\Panfe\\PycharmProjects\\GRAPE\\GRAPE.py:76: ComplexWarning: Casting complex values to real discards the imaginary part\n",
      "  dtype=complex) - 1j * math.sin(\n",
      "C:\\Users\\Panfe\\PycharmProjects\\GRAPE\\GRAPE.py:21: ComplexWarning: Casting complex values to real discards the imaginary part\n",
      "  matrix = math.cos(self.params[0] / 2) * self.__Id - 1j * math.sin(self.params[0] / 2) * (\n",
      "C:\\Users\\Panfe\\PycharmProjects\\GRAPE\\GRAPE.py:22: ComplexWarning: Casting complex values to real discards the imaginary part\n",
      "  math.cos(self.params[1]) * self.__X + math.sin(self.params[1]) * self.__Y)\n"
     ]
    },
    {
     "name": "stdout",
     "output_type": "stream",
     "text": [
      "distance: 0.106687 ; time: -2.15\n"
     ]
    },
    {
     "name": "stderr",
     "output_type": "stream",
     "text": [
      "C:\\Users\\Panfe\\PycharmProjects\\GRAPE\\GRAPE.py:75: ComplexWarning: Casting complex values to real discards the imaginary part\n",
      "  evolution = evolution @ (math.cos(math.pi / 2 * self.J[i][j] * self.time) * np.eye(2 ** self.size,\n",
      "C:\\Users\\Panfe\\PycharmProjects\\GRAPE\\GRAPE.py:76: ComplexWarning: Casting complex values to real discards the imaginary part\n",
      "  dtype=complex) - 1j * math.sin(\n"
     ]
    },
    {
     "data": {
      "text/plain": "<Figure size 432x288 with 1 Axes>",
      "image/png": "[encoded data removed]"
     },
     "metadata": {
      "needs_background": "light"
     },
     "output_type": "display_data"
    }
   ],
   "source": [
    "n = 1\n",
    "m = 1000\n",
    "k = 4\n",
    "\n",
    "evolutions = [Evolution(CX, k) for _ in range(n)]\n",
    "\n",
    "for evolution in evolutions:\n",
    "    evolution.noise = 0.05\n",
    "    evolution.randomize_params()\n",
    "    evolution.set_j(J)\n",
    "\n",
    "losses = [evolution.descend(steps=m, track_distance=True) for evolution in evolutions]\n",
    "\n",
    "for loss in losses:\n",
    "    plt.plot(np.real(loss))\n",
    "for i in range(n):\n",
    "    print(\"distance:\", evolutions[i].distance.round(6).real, \"; time:\", evolutions[i].time.round(2))"
   ],
   "metadata": {
    "collapsed": false,
    "pycharm": {
     "name": "#%%\n"
    }
   }
  },
  {
   "cell_type": "code",
   "execution_count": 4,
   "outputs": [
    {
     "name": "stderr",
     "output_type": "stream",
     "text": [
      "C:\\Users\\Panfe\\PycharmProjects\\GRAPE\\GRAPE.py:104: ComplexWarning: Casting complex values to real discards the imaginary part\n",
      "  circuit.hamiltonian(self.hamiltonian, float(self.time), circuit.qubits)\n",
      "C:\\Users\\Panfe\\anaconda3\\envs\\GRAPE\\lib\\site-packages\\qiskit\\circuit\\quantumcircuit.py:876: DeprecationWarning: The QuantumCircuit.extend() method is being deprecated. Use the compose() (potentially with the inplace=True argument) and tensor() methods which are more flexible w.r.t circuit register compatibility.\n",
      "  return self.extend(rhs)\n"
     ]
    },
    {
     "name": "stdout",
     "output_type": "stream",
     "text": [
      "(-0.06401805288672013+0j) (0.7870374101959862+0j) (-2.8726775124225834+0j) 0.0 \n",
      "\n",
      "[[ 0.99-0.12j  0.08-0.02j -0.01-0.01j  0.02-0.06j]\n",
      " [-0.08-0.03j  0.99+0.11j  0.07-0.05j -0.  +0.02j]\n",
      " [-0.03-0.05j -0.01+0.01j  0.09+0.01j  0.99-0.11j]\n",
      " [ 0.02-0.j   -0.06-0.07j  0.99+0.11j -0.09+0.01j]] \n",
      " [[ 0.99-0.12j  0.08-0.02j -0.01-0.01j  0.02-0.06j]\n",
      " [-0.08-0.03j  0.99+0.11j  0.07-0.05j -0.  +0.02j]\n",
      " [-0.03-0.05j -0.01+0.01j  0.09+0.01j  0.99-0.11j]\n",
      " [ 0.02-0.j   -0.06-0.07j  0.99+0.11j -0.09+0.01j]]\n"
     ]
    },
    {
     "name": "stderr",
     "output_type": "stream",
     "text": [
      "C:\\Users\\Panfe\\PycharmProjects\\GRAPE\\GRAPE.py:75: ComplexWarning: Casting complex values to real discards the imaginary part\n",
      "  evolution = evolution @ (math.cos(math.pi / 2 * self.J[i][j] * self.time) * np.eye(2 ** self.size,\n",
      "C:\\Users\\Panfe\\PycharmProjects\\GRAPE\\GRAPE.py:76: ComplexWarning: Casting complex values to real discards the imaginary part\n",
      "  dtype=complex) - 1j * math.sin(\n"
     ]
    },
    {
     "data": {
      "text/plain": "global phase: 3.9272\n      ┌──────────────────┐┌──────────────┐┌──────────────────┐┌──────────────┐»\nq_0: ─┤ R(2.2119,5.2218) ├┤0             ├┤ R(5.4176,5.5796) ├┤0             ├»\n     ┌┴──────────────────┤│  Hamiltonian │├──────────────────┤│  Hamiltonian │»\nq_1: ┤ R(2.3644,0.66468) ├┤1             ├┤ R(5.2926,3.3015) ├┤1             ├»\n     └───────────────────┘└──────────────┘└──────────────────┘└──────────────┘»\n«     ┌─────────────────┐┌──────────────┐┌──────────────────┐\n«q_0: ┤ R(2.8261,1.221) ├┤0             ├┤ R(1.6762,5.0116) ├\n«     ├─────────────────┤│  Hamiltonian │├──────────────────┤\n«q_1: ┤ R(5.8299,5.519) ├┤1             ├┤ R(3.2727,4.5004) ├\n«     └─────────────────┘└──────────────┘└──────────────────┘",
      "text/html": "<pre style=\"word-wrap: normal;white-space: pre;background: #fff0;line-height: 1.1;font-family: &quot;Courier New&quot;,Courier,monospace\">global phase: 3.9272\n      ┌──────────────────┐┌──────────────┐┌──────────────────┐┌──────────────┐»\nq_0: ─┤ R(2.2119,5.2218) ├┤0             ├┤ R(5.4176,5.5796) ├┤0             ├»\n     ┌┴──────────────────┤│  Hamiltonian │├──────────────────┤│  Hamiltonian │»\nq_1: ┤ R(2.3644,0.66468) ├┤1             ├┤ R(5.2926,3.3015) ├┤1             ├»\n     └───────────────────┘└──────────────┘└──────────────────┘└──────────────┘»\n«     ┌─────────────────┐┌──────────────┐┌──────────────────┐\n«q_0: ┤ R(2.8261,1.221) ├┤0             ├┤ R(1.6762,5.0116) ├\n«     ├─────────────────┤│  Hamiltonian │├──────────────────┤\n«q_1: ┤ R(5.8299,5.519) ├┤1             ├┤ R(3.2727,4.5004) ├\n«     └─────────────────┘└──────────────┘└──────────────────┘</pre>"
     },
     "execution_count": 4,
     "metadata": {},
     "output_type": "execute_result"
    }
   ],
   "source": [
    "for i in range(n):\n",
    "    for j in range(k):\n",
    "        print(evolutions[i].gates[j].time, end=\" \")\n",
    "    print(\"\\n\")\n",
    "\n",
    "circuit = evolutions[0].to_qiskit()\n",
    "\n",
    "backend = Aer.get_backend('unitary_simulator')\n",
    "job = execute(circuit, backend)\n",
    "result = job.result()\n",
    "matrix = result.get_unitary(circuit, decimals=2)\n",
    "print(evolutions[0].matrix.round(2), \"\\n\" ,matrix.round(2))\n",
    "\n",
    "circuit.draw()"
   ],
   "metadata": {
    "collapsed": false,
    "pycharm": {
     "name": "#%%\n"
    }
   }
  },
  {
   "cell_type": "code",
   "execution_count": 5,
   "outputs": [
    {
     "name": "stdout",
     "output_type": "stream",
     "text": [
      "(0.06401805288672013-0j) (0.7870374101959862+0j) (2.8726775124225834-0j) 0.0 \n",
      "\n",
      "[[ 0.31-0.05j -0.13-0.93j -0.07+0.08j  0.02-0.01j]\n",
      " [ 0.13-0.93j  0.31+0.05j  0.  -0.01j -0.08+0.09j]\n",
      " [ 0.01-0.01j  0.09+0.06j  0.2 +0.93j  0.3 -0.03j]\n",
      " [ 0.05+0.11j -0.03-0.02j  0.3 +0.03j -0.19+0.93j]] \n",
      " [[ 0.31-0.05j -0.13-0.93j -0.07+0.08j  0.02-0.01j]\n",
      " [ 0.13-0.93j  0.31+0.05j  0.  -0.01j -0.08+0.09j]\n",
      " [ 0.01-0.01j  0.09+0.06j  0.2 +0.93j  0.3 -0.03j]\n",
      " [ 0.05+0.11j -0.03-0.02j  0.3 +0.03j -0.19+0.93j]]\n"
     ]
    },
    {
     "name": "stderr",
     "output_type": "stream",
     "text": [
      "C:\\Users\\Panfe\\PycharmProjects\\GRAPE\\GRAPE.py:104: ComplexWarning: Casting complex values to real discards the imaginary part\n",
      "  circuit.hamiltonian(self.hamiltonian, float(self.time), circuit.qubits)\n"
     ]
    },
    {
     "data": {
      "text/plain": "global phase: 3.9272\n      ┌──────────────────┐┌──────────────┐┌──────────────────┐┌──────────────┐»\nq_0: ─┤ R(2.2119,5.2218) ├┤0             ├┤ R(5.4176,5.5796) ├┤0             ├»\n     ┌┴──────────────────┤│  Hamiltonian │├──────────────────┤│  Hamiltonian │»\nq_1: ┤ R(8.6476,0.66468) ├┤1             ├┤ R(11.576,3.3015) ├┤1             ├»\n     └───────────────────┘└──────────────┘└──────────────────┘└──────────────┘»\n«     ┌─────────────────┐┌──────────────┐┌──────────────────┐\n«q_0: ┤ R(2.8261,1.221) ├┤0             ├┤ R(1.6762,5.0116) ├\n«     ├─────────────────┤│  Hamiltonian │├──────────────────┤\n«q_1: ┤ R(12.113,5.519) ├┤1             ├┤ R(9.5559,4.5004) ├\n«     └─────────────────┘└──────────────┘└──────────────────┘",
      "text/html": "<pre style=\"word-wrap: normal;white-space: pre;background: #fff0;line-height: 1.1;font-family: &quot;Courier New&quot;,Courier,monospace\">global phase: 3.9272\n      ┌──────────────────┐┌──────────────┐┌──────────────────┐┌──────────────┐»\nq_0: ─┤ R(2.2119,5.2218) ├┤0             ├┤ R(5.4176,5.5796) ├┤0             ├»\n     ┌┴──────────────────┤│  Hamiltonian │├──────────────────┤│  Hamiltonian │»\nq_1: ┤ R(8.6476,0.66468) ├┤1             ├┤ R(11.576,3.3015) ├┤1             ├»\n     └───────────────────┘└──────────────┘└──────────────────┘└──────────────┘»\n«     ┌─────────────────┐┌──────────────┐┌──────────────────┐\n«q_0: ┤ R(2.8261,1.221) ├┤0             ├┤ R(1.6762,5.0116) ├\n«     ├─────────────────┤│  Hamiltonian │├──────────────────┤\n«q_1: ┤ R(12.113,5.519) ├┤1             ├┤ R(9.5559,4.5004) ├\n«     └─────────────────┘└──────────────┘└──────────────────┘</pre>"
     },
     "execution_count": 5,
     "metadata": {},
     "output_type": "execute_result"
    }
   ],
   "source": [
    "A = evolutions[0].matrix\n",
    "evolutions[0].make_times_positive()\n",
    "B = evolutions[0].matrix\n",
    "\n",
    "for i in range(n):\n",
    "    for j in range(k):\n",
    "        print(evolutions[i].gates[j].time, end=\" \")\n",
    "    print(\"\\n\")\n",
    "\n",
    "circuit = evolutions[0].to_qiskit()\n",
    "circuit.draw()\n",
    "\n",
    "backend = Aer.get_backend('unitary_simulator')\n",
    "job = execute(circuit, backend)\n",
    "result = job.result()\n",
    "matrix = result.get_unitary(circuit, decimals=2)\n",
    "print(evolutions[0].matrix.round(2), \"\\n\" ,matrix.round(2))\n",
    "\n",
    "circuit.draw()"
   ],
   "metadata": {
    "collapsed": false,
    "pycharm": {
     "name": "#%%\n"
    }
   }
  }
 ],
 "metadata": {
  "kernelspec": {
   "display_name": "Python 3",
   "language": "python",
   "name": "python3"
  },
  "language_info": {
   "codemirror_mode": {
    "name": "ipython",
    "version": 2
   },
   "file_extension": ".py",
   "mimetype": "text/x-python",
   "name": "python",
   "nbconvert_exporter": "python",
   "pygments_lexer": "ipython2",
   "version": "2.7.6"
  }
 },
 "nbformat": 4,
 "nbformat_minor": 0
}