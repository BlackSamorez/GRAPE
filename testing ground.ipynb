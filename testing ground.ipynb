{
 "cells": [
  {
   "cell_type": "code",
   "execution_count": 1,
   "outputs": [],
   "source": [
    "import numpy as np\n",
    "import math\n",
    "from GRAPE import *\n",
    "import matplotlib.pyplot as plt\n",
    "from qiskit import Aer, execute"
   ],
   "metadata": {
    "collapsed": false,
    "pycharm": {
     "name": "#%%\n"
    }
   }
  },
  {
   "cell_type": "code",
   "execution_count": 2,
   "outputs": [],
   "source": [
    "J = np.zeros((3, 3))  # HCN\n",
    "J[0][1] = 0.1385  # HC\n",
    "J[1][2] = 0.01304  # CN\n",
    "J[0][2] = 0.00148  # HN\n",
    "\n",
    "CX = np.eye(4)\n",
    "CX[2][2] = 0\n",
    "CX[3][3] = 0\n",
    "CX[2][3] = 1\n",
    "CX[3][2] = 1\n",
    "\n",
    "SWAP = np.eye(4)\n",
    "SWAP[1][1] = 0\n",
    "SWAP[2][2] = 0\n",
    "SWAP[1][2] = 1\n",
    "SWAP[2][1] = 1\n",
    "\n",
    "TOFFOLI = np.eye(8)\n",
    "TOFFOLI[6][6] = 0\n",
    "TOFFOLI[7][7] = 0\n",
    "TOFFOLI[6][7] = 1\n",
    "TOFFOLI[7][6] = 1\n",
    "\n",
    "ket_00 = np.array([1,0,0,0]).reshape((4,1))\n",
    "ket_01 = np.array([0,1,0,0]).reshape((4,1))\n",
    "ket_10 = np.array([0,0,1,0]).reshape((4,1))\n",
    "ket_11 = np.array([0,0,0,1]).reshape((4,1))\n",
    "H = math.sqrt(0.5)*np.array([1,1,1,-1]).reshape(2,2)\n",
    "\n",
    "U = np.kron(np.array([1,0,0,0,0,0,1,0,0,1,0,0,0,0,0,1]).reshape(4,4),np.eye(2))\n",
    "\n",
    "def F(f):\n",
    "  A = f(0)*ket_00 @ ket_00.T + f(1)*ket_01 @ ket_01.T + f(2)*ket_10 @ ket_10.T + f(3)*ket_11 @ ket_11.T\n",
    "  return np.eye(8) + U @ np.kron((H - np.eye(2)), A) @ U\n",
    "\n",
    "def f1(x): # корни 01\n",
    "  if x == 1:\n",
    "    return 1\n",
    "  return 0\n",
    "\n",
    "def f2(x): # корни 00 01\n",
    "  if x == 1:\n",
    "    return 1\n",
    "  if x == 0:\n",
    "    return 1\n",
    "  return 0\n",
    "\n",
    "def f3(x): # корни 01 11\n",
    "  if x == 1:\n",
    "    return 1\n",
    "  if x == 3:\n",
    "    return 1\n",
    "  return 0\n",
    "\n",
    "def f4(x): # корни 01 10\n",
    "  if x == 1:\n",
    "    return 1\n",
    "  if x == 2:\n",
    "    return 1\n",
    "  return 0\n",
    "\n",
    "def f5(x): # корни 01 10 11\n",
    "  if x == 1:\n",
    "    return 1\n",
    "  if x == 2:\n",
    "    return 1\n",
    "  if x == 3:\n",
    "    return 1\n",
    "  return 0\n",
    "\n",
    "# нужно построить последовательность для этих матриц. J_12 = J_HC  J_13 = J_CN  J_23 = J_HN - первый спин это углерод, его спектр мне и нужен\n",
    "F1 = F(f1)\n",
    "F2 = F(f2)\n",
    "F3 = F(f3)\n",
    "F4 = F(f4)\n",
    "F5 = F(f5)"
   ],
   "metadata": {
    "collapsed": false,
    "pycharm": {
     "name": "#%%\n"
    }
   }
  },
  {
   "cell_type": "code",
   "execution_count": 3,
   "outputs": [
    {
     "name": "stdout",
     "output_type": "stream",
     "text": [
      "[[0.     +0.j 0.1385 +0.j 0.00148+0.j]\n",
      " [0.     +0.j 0.     +0.j 0.01304+0.j]\n",
      " [0.     +0.j 0.     +0.j 0.     +0.j]]\n"
     ]
    },
    {
     "name": "stderr",
     "output_type": "stream",
     "text": [
      "C:\\Users\\Panfe\\PycharmProjects\\GRAPE\\GRAPE.py:101: ComplexWarning: Casting complex values to real discards the imaginary part\n",
      "  evolution = evolution @ (math.cos(math.pi / 2 * self.j[i][j] * self.time) * np.eye(2 ** self.size,\n",
      "C:\\Users\\Panfe\\PycharmProjects\\GRAPE\\GRAPE.py:102: ComplexWarning: Casting complex values to real discards the imaginary part\n",
      "  dtype=complex) - 1j * math.sin(\n",
      "C:\\Users\\Panfe\\PycharmProjects\\GRAPE\\GRAPE.py:20: ComplexWarning: Casting complex values to real discards the imaginary part\n",
      "  matrix = math.cos(self.params[0] / 2) * self._id - 1j * math.sin(self.params[0] / 2) * (\n",
      "C:\\Users\\Panfe\\PycharmProjects\\GRAPE\\GRAPE.py:21: ComplexWarning: Casting complex values to real discards the imaginary part\n",
      "  math.cos(self.params[1]) * self._x + math.sin(self.params[1]) * self._y)\n"
     ]
    },
    {
     "name": "stdout",
     "output_type": "stream",
     "text": [
      "distance: 4.235549 ; time: 2.01\n"
     ]
    },
    {
     "name": "stderr",
     "output_type": "stream",
     "text": [
      "C:\\Users\\Panfe\\PycharmProjects\\GRAPE\\GRAPE.py:101: ComplexWarning: Casting complex values to real discards the imaginary part\n",
      "  evolution = evolution @ (math.cos(math.pi / 2 * self.j[i][j] * self.time) * np.eye(2 ** self.size,\n",
      "C:\\Users\\Panfe\\PycharmProjects\\GRAPE\\GRAPE.py:102: ComplexWarning: Casting complex values to real discards the imaginary part\n",
      "  dtype=complex) - 1j * math.sin(\n"
     ]
    },
    {
     "data": {
      "text/plain": "<Figure size 432x288 with 1 Axes>",
      "image/png": "[encoded data removed]"
     },
     "metadata": {
      "needs_background": "light"
     },
     "output_type": "display_data"
    }
   ],
   "source": [
    "n = 1\n",
    "m = 20\n",
    "k = 8\n",
    "\n",
    "descents = [ThreeQubitGradient(F1, k) for _ in range(n)]\n",
    "\n",
    "for descent in descents:\n",
    "    descent.noise = 1\n",
    "    descent.randomize_params()\n",
    "    descent.set_j(J)\n",
    "\n",
    "print(descents[0].gates[1].j)\n",
    "\n",
    "losses = [descent.descend(steps=m, track_distance=True) for descent in descents]\n",
    "\n",
    "for loss in losses:\n",
    "    plt.plot(np.real(loss))\n",
    "for descent in descents:\n",
    "    descent.make_times_positive()\n",
    "    print(\"distance:\", descent.distance.round(6).real, \"; time:\", descent.time.round(2))\n",
    "\n"
   ],
   "metadata": {
    "collapsed": false,
    "pycharm": {
     "name": "#%%\n"
    }
   }
  },
  {
   "cell_type": "code",
   "execution_count": 4,
   "outputs": [
    {
     "name": "stderr",
     "output_type": "stream",
     "text": [
      "C:\\Users\\Panfe\\PycharmProjects\\GRAPE\\GRAPE.py:464: ComplexWarning: Casting complex values to real discards the imaginary part\n",
      "  if np.random.binomial(1, p_up):\n",
      "C:\\Users\\Panfe\\PycharmProjects\\GRAPE\\GRAPE.py:470: ComplexWarning: Casting complex values to real discards the imaginary part\n",
      "  if np.random.binomial(1, p_down):\n",
      "C:\\Users\\Panfe\\PycharmProjects\\GRAPE\\GRAPE.py:20: ComplexWarning: Casting complex values to real discards the imaginary part\n",
      "  matrix = math.cos(self.params[0] / 2) * self._id - 1j * math.sin(self.params[0] / 2) * (\n",
      "C:\\Users\\Panfe\\PycharmProjects\\GRAPE\\GRAPE.py:21: ComplexWarning: Casting complex values to real discards the imaginary part\n",
      "  math.cos(self.params[1]) * self._x + math.sin(self.params[1]) * self._y)\n"
     ]
    },
    {
     "data": {
      "text/plain": "<Figure size 432x288 with 1 Axes>",
      "image/png": "[encoded data removed]"
     },
     "metadata": {
      "needs_background": "light"
     },
     "output_type": "display_data"
    }
   ],
   "source": [
    "for n in range(10):\n",
    "  for i in range(len(descents)):\n",
    "    descents[i].hyper_step()\n",
    "    losses[i] += descents[i].descend(steps=m, track_distance=True)\n",
    "    descents[i].make_times_positive()\n",
    "\n",
    "for loss in losses:\n",
    "    plt.plot(np.real(loss))"
   ],
   "metadata": {
    "collapsed": false,
    "pycharm": {
     "name": "#%%\n"
    }
   }
  }
 ],
 "metadata": {
  "kernelspec": {
   "display_name": "Python 3",
   "language": "python",
   "name": "python3"
  },
  "language_info": {
   "codemirror_mode": {
    "name": "ipython",
    "version": 2
   },
   "file_extension": ".py",
   "mimetype": "text/x-python",
   "name": "python",
   "nbconvert_exporter": "python",
   "pygments_lexer": "ipython2",
   "version": "2.7.6"
  }
 },
 "nbformat": 4,
 "nbformat_minor": 0
}